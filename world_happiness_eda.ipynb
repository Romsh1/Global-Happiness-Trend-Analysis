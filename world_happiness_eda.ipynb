{
 "cells": [
  {
   "cell_type": "code",
   "execution_count": 1,
   "metadata": {},
   "outputs": [],
   "source": [
    "# Global Happiness Report Analysis (2015 - 2022)\n",
    "\n",
    "# Importing required libraries\n",
    "\n",
    "import pandas as pd\n",
    "import numpy as np\n",
    "import matplotlib.pyplot as plt\n",
    "import seaborn as sns\n",
    "import plotly.express as px"
   ]
  },
  {
   "cell_type": "code",
   "execution_count": 2,
   "metadata": {},
   "outputs": [],
   "source": [
    "# Visualization styles\n",
    "\n",
    "sns.set(style=\"whitegrid\")\n",
    "plt.rcParams['figure.figsize'] = (12, 6)"
   ]
  },
  {
   "cell_type": "code",
   "execution_count": 3,
   "metadata": {},
   "outputs": [],
   "source": [
    "# Reading CSV files for 2015 to 2022 into a list of dataframes\n",
    "\n",
    "files = ['2015.csv', '2016.csv', '2017.csv', '2018.csv', '2019.csv', '2020.csv', '2021.csv', '2022.csv']\n",
    "df_list = [pd.read_csv(file) for file in files]"
   ]
  },
  {
   "cell_type": "code",
   "execution_count": 14,
   "metadata": {},
   "outputs": [
    {
     "data": {
      "text/plain": [
       "[         Country                           Region  Happiness Rank  \\\n",
       " 0    Switzerland                   Western Europe               1   \n",
       " 1        Iceland                   Western Europe               2   \n",
       " 2        Denmark                   Western Europe               3   \n",
       " 3         Norway                   Western Europe               4   \n",
       " 4         Canada                    North America               5   \n",
       " ..           ...                              ...             ...   \n",
       " 153       Rwanda               Sub-Saharan Africa             154   \n",
       " 154        Benin               Sub-Saharan Africa             155   \n",
       " 155        Syria  Middle East and Northern Africa             156   \n",
       " 156      Burundi               Sub-Saharan Africa             157   \n",
       " 157         Togo               Sub-Saharan Africa             158   \n",
       " \n",
       "      Happiness Score  Standard Error  Economy (GDP per Capita)   Family  \\\n",
       " 0              7.587         0.03411                   1.39651  1.34951   \n",
       " 1              7.561         0.04884                   1.30232  1.40223   \n",
       " 2              7.527         0.03328                   1.32548  1.36058   \n",
       " 3              7.522         0.03880                   1.45900  1.33095   \n",
       " 4              7.427         0.03553                   1.32629  1.32261   \n",
       " ..               ...             ...                       ...      ...   \n",
       " 153            3.465         0.03464                   0.22208  0.77370   \n",
       " 154            3.340         0.03656                   0.28665  0.35386   \n",
       " 155            3.006         0.05015                   0.66320  0.47489   \n",
       " 156            2.905         0.08658                   0.01530  0.41587   \n",
       " 157            2.839         0.06727                   0.20868  0.13995   \n",
       " \n",
       "      Health (Life Expectancy)  Freedom  Trust (Government Corruption)  \\\n",
       " 0                     0.94143  0.66557                        0.41978   \n",
       " 1                     0.94784  0.62877                        0.14145   \n",
       " 2                     0.87464  0.64938                        0.48357   \n",
       " 3                     0.88521  0.66973                        0.36503   \n",
       " 4                     0.90563  0.63297                        0.32957   \n",
       " ..                        ...      ...                            ...   \n",
       " 153                   0.42864  0.59201                        0.55191   \n",
       " 154                   0.31910  0.48450                        0.08010   \n",
       " 155                   0.72193  0.15684                        0.18906   \n",
       " 156                   0.22396  0.11850                        0.10062   \n",
       " 157                   0.28443  0.36453                        0.10731   \n",
       " \n",
       "      Generosity  Dystopia Residual  \n",
       " 0       0.29678            2.51738  \n",
       " 1       0.43630            2.70201  \n",
       " 2       0.34139            2.49204  \n",
       " 3       0.34699            2.46531  \n",
       " 4       0.45811            2.45176  \n",
       " ..          ...                ...  \n",
       " 153     0.22628            0.67042  \n",
       " 154     0.18260            1.63328  \n",
       " 155     0.47179            0.32858  \n",
       " 156     0.19727            1.83302  \n",
       " 157     0.16681            1.56726  \n",
       " \n",
       " [158 rows x 12 columns],\n",
       "          Country                           Region  Happiness Rank  \\\n",
       " 0        Denmark                   Western Europe               1   \n",
       " 1    Switzerland                   Western Europe               2   \n",
       " 2        Iceland                   Western Europe               3   \n",
       " 3         Norway                   Western Europe               4   \n",
       " 4        Finland                   Western Europe               5   \n",
       " ..           ...                              ...             ...   \n",
       " 152        Benin               Sub-Saharan Africa             153   \n",
       " 153  Afghanistan                    Southern Asia             154   \n",
       " 154         Togo               Sub-Saharan Africa             155   \n",
       " 155        Syria  Middle East and Northern Africa             156   \n",
       " 156      Burundi               Sub-Saharan Africa             157   \n",
       " \n",
       "      Happiness Score  Lower Confidence Interval  Upper Confidence Interval  \\\n",
       " 0              7.526                      7.460                      7.592   \n",
       " 1              7.509                      7.428                      7.590   \n",
       " 2              7.501                      7.333                      7.669   \n",
       " 3              7.498                      7.421                      7.575   \n",
       " 4              7.413                      7.351                      7.475   \n",
       " ..               ...                        ...                        ...   \n",
       " 152            3.484                      3.404                      3.564   \n",
       " 153            3.360                      3.288                      3.432   \n",
       " 154            3.303                      3.192                      3.414   \n",
       " 155            3.069                      2.936                      3.202   \n",
       " 156            2.905                      2.732                      3.078   \n",
       " \n",
       "      Economy (GDP per Capita)   Family  Health (Life Expectancy)  Freedom  \\\n",
       " 0                     1.44178  1.16374                   0.79504  0.57941   \n",
       " 1                     1.52733  1.14524                   0.86303  0.58557   \n",
       " 2                     1.42666  1.18326                   0.86733  0.56624   \n",
       " 3                     1.57744  1.12690                   0.79579  0.59609   \n",
       " 4                     1.40598  1.13464                   0.81091  0.57104   \n",
       " ..                        ...      ...                       ...      ...   \n",
       " 152                   0.39499  0.10419                   0.21028  0.39747   \n",
       " 153                   0.38227  0.11037                   0.17344  0.16430   \n",
       " 154                   0.28123  0.00000                   0.24811  0.34678   \n",
       " 155                   0.74719  0.14866                   0.62994  0.06912   \n",
       " 156                   0.06831  0.23442                   0.15747  0.04320   \n",
       " \n",
       "      Trust (Government Corruption)  Generosity  Dystopia Residual  \n",
       " 0                          0.44453     0.36171            2.73939  \n",
       " 1                          0.41203     0.28083            2.69463  \n",
       " 2                          0.14975     0.47678            2.83137  \n",
       " 3                          0.35776     0.37895            2.66465  \n",
       " 4                          0.41004     0.25492            2.82596  \n",
       " ..                             ...         ...                ...  \n",
       " 152                        0.06681     0.20180            2.10812  \n",
       " 153                        0.07112     0.31268            2.14558  \n",
       " 154                        0.11587     0.17517            2.13540  \n",
       " 155                        0.17233     0.48397            0.81789  \n",
       " 156                        0.09419     0.20290            2.10404  \n",
       " \n",
       " [157 rows x 13 columns],\n",
       "                       Country  Happiness.Rank  Happiness.Score  Whisker.high  \\\n",
       " 0                      Norway               1            7.537      7.594445   \n",
       " 1                     Denmark               2            7.522      7.581728   \n",
       " 2                     Iceland               3            7.504      7.622030   \n",
       " 3                 Switzerland               4            7.494      7.561772   \n",
       " 4                     Finland               5            7.469      7.527542   \n",
       " ..                        ...             ...              ...           ...   \n",
       " 150                    Rwanda             151            3.471      3.543030   \n",
       " 151                     Syria             152            3.462      3.663669   \n",
       " 152                  Tanzania             153            3.349      3.461430   \n",
       " 153                   Burundi             154            2.905      3.074690   \n",
       " 154  Central African Republic             155            2.693      2.864884   \n",
       " \n",
       "      Whisker.low  Economy..GDP.per.Capita.    Family  \\\n",
       " 0       7.479556                  1.616463  1.533524   \n",
       " 1       7.462272                  1.482383  1.551122   \n",
       " 2       7.385970                  1.480633  1.610574   \n",
       " 3       7.426227                  1.564980  1.516912   \n",
       " 4       7.410458                  1.443572  1.540247   \n",
       " ..           ...                       ...       ...   \n",
       " 150     3.398970                  0.368746  0.945707   \n",
       " 151     3.260331                  0.777153  0.396103   \n",
       " 152     3.236570                  0.511136  1.041990   \n",
       " 153     2.735310                  0.091623  0.629794   \n",
       " 154     2.521116                  0.000000  0.000000   \n",
       " \n",
       "      Health..Life.Expectancy.   Freedom  Generosity  \\\n",
       " 0                    0.796667  0.635423    0.362012   \n",
       " 1                    0.792566  0.626007    0.355280   \n",
       " 2                    0.833552  0.627163    0.475540   \n",
       " 3                    0.858131  0.620071    0.290549   \n",
       " 4                    0.809158  0.617951    0.245483   \n",
       " ..                        ...       ...         ...   \n",
       " 150                  0.326425  0.581844    0.252756   \n",
       " 151                  0.500533  0.081539    0.493664   \n",
       " 152                  0.364509  0.390018    0.354256   \n",
       " 153                  0.151611  0.059901    0.204435   \n",
       " 154                  0.018773  0.270842    0.280876   \n",
       " \n",
       "      Trust..Government.Corruption.  Dystopia.Residual  \n",
       " 0                         0.315964           2.277027  \n",
       " 1                         0.400770           2.313707  \n",
       " 2                         0.153527           2.322715  \n",
       " 3                         0.367007           2.276716  \n",
       " 4                         0.382612           2.430182  \n",
       " ..                             ...                ...  \n",
       " 150                       0.455220           0.540061  \n",
       " 151                       0.151347           1.061574  \n",
       " 152                       0.066035           0.621130  \n",
       " 153                       0.084148           1.683024  \n",
       " 154                       0.056565           2.066005  \n",
       " \n",
       " [155 rows x 12 columns],\n",
       "      Overall rank         Country or region  Score  GDP per capita  \\\n",
       " 0               1                   Finland  7.632           1.305   \n",
       " 1               2                    Norway  7.594           1.456   \n",
       " 2               3                   Denmark  7.555           1.351   \n",
       " 3               4                   Iceland  7.495           1.343   \n",
       " 4               5               Switzerland  7.487           1.420   \n",
       " ..            ...                       ...    ...             ...   \n",
       " 151           152                     Yemen  3.355           0.442   \n",
       " 152           153                  Tanzania  3.303           0.455   \n",
       " 153           154               South Sudan  3.254           0.337   \n",
       " 154           155  Central African Republic  3.083           0.024   \n",
       " 155           156                   Burundi  2.905           0.091   \n",
       " \n",
       "      Social support  Healthy life expectancy  Freedom to make life choices  \\\n",
       " 0             1.592                    0.874                         0.681   \n",
       " 1             1.582                    0.861                         0.686   \n",
       " 2             1.590                    0.868                         0.683   \n",
       " 3             1.644                    0.914                         0.677   \n",
       " 4             1.549                    0.927                         0.660   \n",
       " ..              ...                      ...                           ...   \n",
       " 151           1.073                    0.343                         0.244   \n",
       " 152           0.991                    0.381                         0.481   \n",
       " 153           0.608                    0.177                         0.112   \n",
       " 154           0.000                    0.010                         0.305   \n",
       " 155           0.627                    0.145                         0.065   \n",
       " \n",
       "      Generosity  Perceptions of corruption  \n",
       " 0         0.202                      0.393  \n",
       " 1         0.286                      0.340  \n",
       " 2         0.284                      0.408  \n",
       " 3         0.353                      0.138  \n",
       " 4         0.256                      0.357  \n",
       " ..          ...                        ...  \n",
       " 151       0.083                      0.064  \n",
       " 152       0.270                      0.097  \n",
       " 153       0.224                      0.106  \n",
       " 154       0.218                      0.038  \n",
       " 155       0.149                      0.076  \n",
       " \n",
       " [156 rows x 9 columns],\n",
       "      Overall rank         Country or region  Score  GDP per capita  \\\n",
       " 0               1                   Finland  7.769           1.340   \n",
       " 1               2                   Denmark  7.600           1.383   \n",
       " 2               3                    Norway  7.554           1.488   \n",
       " 3               4                   Iceland  7.494           1.380   \n",
       " 4               5               Netherlands  7.488           1.396   \n",
       " ..            ...                       ...    ...             ...   \n",
       " 151           152                    Rwanda  3.334           0.359   \n",
       " 152           153                  Tanzania  3.231           0.476   \n",
       " 153           154               Afghanistan  3.203           0.350   \n",
       " 154           155  Central African Republic  3.083           0.026   \n",
       " 155           156               South Sudan  2.853           0.306   \n",
       " \n",
       "      Social support  Healthy life expectancy  Freedom to make life choices  \\\n",
       " 0             1.587                    0.986                         0.596   \n",
       " 1             1.573                    0.996                         0.592   \n",
       " 2             1.582                    1.028                         0.603   \n",
       " 3             1.624                    1.026                         0.591   \n",
       " 4             1.522                    0.999                         0.557   \n",
       " ..              ...                      ...                           ...   \n",
       " 151           0.711                    0.614                         0.555   \n",
       " 152           0.885                    0.499                         0.417   \n",
       " 153           0.517                    0.361                         0.000   \n",
       " 154           0.000                    0.105                         0.225   \n",
       " 155           0.575                    0.295                         0.010   \n",
       " \n",
       "      Generosity  Perceptions of corruption  \n",
       " 0         0.153                      0.393  \n",
       " 1         0.252                      0.410  \n",
       " 2         0.271                      0.341  \n",
       " 3         0.354                      0.118  \n",
       " 4         0.322                      0.298  \n",
       " ..          ...                        ...  \n",
       " 151       0.217                      0.411  \n",
       " 152       0.276                      0.147  \n",
       " 153       0.158                      0.025  \n",
       " 154       0.235                      0.035  \n",
       " 155       0.202                      0.091  \n",
       " \n",
       " [156 rows x 9 columns],\n",
       "                  Country name  Regional indicator  Ladder score  \\\n",
       " 0                     Finland      Western Europe        7.8087   \n",
       " 1                     Denmark      Western Europe        7.6456   \n",
       " 2                 Switzerland      Western Europe        7.5599   \n",
       " 3                     Iceland      Western Europe        7.5045   \n",
       " 4                      Norway      Western Europe        7.4880   \n",
       " ..                        ...                 ...           ...   \n",
       " 148  Central African Republic  Sub-Saharan Africa        3.4759   \n",
       " 149                    Rwanda  Sub-Saharan Africa        3.3123   \n",
       " 150                  Zimbabwe  Sub-Saharan Africa        3.2992   \n",
       " 151               South Sudan  Sub-Saharan Africa        2.8166   \n",
       " 152               Afghanistan          South Asia        2.5669   \n",
       " \n",
       "      Standard error of ladder score  upperwhisker  lowerwhisker  \\\n",
       " 0                          0.031156      7.869766      7.747634   \n",
       " 1                          0.033492      7.711245      7.579955   \n",
       " 2                          0.035014      7.628528      7.491272   \n",
       " 3                          0.059616      7.621347      7.387653   \n",
       " 4                          0.034837      7.556281      7.419719   \n",
       " ..                              ...           ...           ...   \n",
       " 148                        0.115183      3.701658      3.250141   \n",
       " 149                        0.052425      3.415053      3.209547   \n",
       " 150                        0.058674      3.414202      3.184198   \n",
       " 151                        0.107610      3.027516      2.605684   \n",
       " 152                        0.031311      2.628270      2.505530   \n",
       " \n",
       "      Logged GDP per capita  Social support  Healthy life expectancy  \\\n",
       " 0                10.639267        0.954330                71.900825   \n",
       " 1                10.774001        0.955991                72.402504   \n",
       " 2                10.979933        0.942847                74.102448   \n",
       " 3                10.772559        0.974670                73.000000   \n",
       " 4                11.087804        0.952487                73.200783   \n",
       " ..                     ...             ...                      ...   \n",
       " 148               6.625160        0.319460                45.200001   \n",
       " 149               7.600104        0.540835                61.098846   \n",
       " 150               7.865712        0.763093                55.617260   \n",
       " 151               7.425360        0.553707                51.000000   \n",
       " 152               7.462861        0.470367                52.590000   \n",
       " \n",
       "      Freedom to make life choices  Generosity  Perceptions of corruption  \\\n",
       " 0                        0.949172   -0.059482                   0.195445   \n",
       " 1                        0.951444    0.066202                   0.168489   \n",
       " 2                        0.921337    0.105911                   0.303728   \n",
       " 3                        0.948892    0.246944                   0.711710   \n",
       " 4                        0.955750    0.134533                   0.263218   \n",
       " ..                            ...         ...                        ...   \n",
       " 148                      0.640881    0.082410                   0.891807   \n",
       " 149                      0.900589    0.055484                   0.183541   \n",
       " 150                      0.711458   -0.072064                   0.810237   \n",
       " 151                      0.451314    0.016519                   0.763417   \n",
       " 152                      0.396573   -0.096429                   0.933687   \n",
       " \n",
       "      Ladder score in Dystopia  Explained by: Log GDP per capita  \\\n",
       " 0                    1.972317                          1.285190   \n",
       " 1                    1.972317                          1.326949   \n",
       " 2                    1.972317                          1.390774   \n",
       " 3                    1.972317                          1.326502   \n",
       " 4                    1.972317                          1.424207   \n",
       " ..                        ...                               ...   \n",
       " 148                  1.972317                          0.041072   \n",
       " 149                  1.972317                          0.343243   \n",
       " 150                  1.972317                          0.425564   \n",
       " 151                  1.972317                          0.289083   \n",
       " 152                  1.972317                          0.300706   \n",
       " \n",
       "      Explained by: Social support  Explained by: Healthy life expectancy  \\\n",
       " 0                        1.499526                               0.961271   \n",
       " 1                        1.503449                               0.979333   \n",
       " 2                        1.472403                               1.040533   \n",
       " 3                        1.547567                               1.000843   \n",
       " 4                        1.495173                               1.008072   \n",
       " ..                            ...                                    ...   \n",
       " 148                      0.000000                               0.000000   \n",
       " 149                      0.522876                               0.572383   \n",
       " 150                      1.047835                               0.375038   \n",
       " 151                      0.553279                               0.208809   \n",
       " 152                      0.356434                               0.266052   \n",
       " \n",
       "      Explained by: Freedom to make life choices  Explained by: Generosity  \\\n",
       " 0                                      0.662317                  0.159670   \n",
       " 1                                      0.665040                  0.242793   \n",
       " 2                                      0.628954                  0.269056   \n",
       " 3                                      0.661981                  0.362330   \n",
       " 4                                      0.670201                  0.287985   \n",
       " ..                                          ...                       ...   \n",
       " 148                                    0.292814                  0.253513   \n",
       " 149                                    0.604088                  0.235705   \n",
       " 150                                    0.377405                  0.151349   \n",
       " 151                                    0.065609                  0.209935   \n",
       " 152                                    0.000000                  0.135235   \n",
       " \n",
       "      Explained by: Perceptions of corruption  Dystopia + residual  \n",
       " 0                                   0.477857             2.762835  \n",
       " 1                                   0.495260             2.432741  \n",
       " 2                                   0.407946             2.350267  \n",
       " 3                                   0.144541             2.460688  \n",
       " 4                                   0.434101             2.168266  \n",
       " ..                                       ...                  ...  \n",
       " 148                                 0.028265             2.860198  \n",
       " 149                                 0.485542             0.548445  \n",
       " 150                                 0.080929             0.841031  \n",
       " 151                                 0.111157             1.378751  \n",
       " 152                                 0.001226             1.507236  \n",
       " \n",
       " [153 rows x 20 columns],\n",
       "     Country name  Regional indicator  Ladder score  \\\n",
       " 0        Finland      Western Europe         7.842   \n",
       " 1        Denmark      Western Europe         7.620   \n",
       " 2    Switzerland      Western Europe         7.571   \n",
       " 3        Iceland      Western Europe         7.554   \n",
       " 4    Netherlands      Western Europe         7.464   \n",
       " ..           ...                 ...           ...   \n",
       " 144      Lesotho  Sub-Saharan Africa         3.512   \n",
       " 145     Botswana  Sub-Saharan Africa         3.467   \n",
       " 146       Rwanda  Sub-Saharan Africa         3.415   \n",
       " 147     Zimbabwe  Sub-Saharan Africa         3.145   \n",
       " 148  Afghanistan          South Asia         2.523   \n",
       " \n",
       "      Standard error of ladder score  upperwhisker  lowerwhisker  \\\n",
       " 0                             0.032         7.904         7.780   \n",
       " 1                             0.035         7.687         7.552   \n",
       " 2                             0.036         7.643         7.500   \n",
       " 3                             0.059         7.670         7.438   \n",
       " 4                             0.027         7.518         7.410   \n",
       " ..                              ...           ...           ...   \n",
       " 144                           0.120         3.748         3.276   \n",
       " 145                           0.074         3.611         3.322   \n",
       " 146                           0.068         3.548         3.282   \n",
       " 147                           0.058         3.259         3.030   \n",
       " 148                           0.038         2.596         2.449   \n",
       " \n",
       "      Logged GDP per capita  Social support  Healthy life expectancy  \\\n",
       " 0                   10.775           0.954                   72.000   \n",
       " 1                   10.933           0.954                   72.700   \n",
       " 2                   11.117           0.942                   74.400   \n",
       " 3                   10.878           0.983                   73.000   \n",
       " 4                   10.932           0.942                   72.400   \n",
       " ..                     ...             ...                      ...   \n",
       " 144                  7.926           0.787                   48.700   \n",
       " 145                  9.782           0.784                   59.269   \n",
       " 146                  7.676           0.552                   61.400   \n",
       " 147                  7.943           0.750                   56.201   \n",
       " 148                  7.695           0.463                   52.493   \n",
       " \n",
       "      Freedom to make life choices  Generosity  Perceptions of corruption  \\\n",
       " 0                           0.949      -0.098                      0.186   \n",
       " 1                           0.946       0.030                      0.179   \n",
       " 2                           0.919       0.025                      0.292   \n",
       " 3                           0.955       0.160                      0.673   \n",
       " 4                           0.913       0.175                      0.338   \n",
       " ..                            ...         ...                        ...   \n",
       " 144                         0.715      -0.131                      0.915   \n",
       " 145                         0.824      -0.246                      0.801   \n",
       " 146                         0.897       0.061                      0.167   \n",
       " 147                         0.677      -0.047                      0.821   \n",
       " 148                         0.382      -0.102                      0.924   \n",
       " \n",
       "      Ladder score in Dystopia  Explained by: Log GDP per capita  \\\n",
       " 0                        2.43                             1.446   \n",
       " 1                        2.43                             1.502   \n",
       " 2                        2.43                             1.566   \n",
       " 3                        2.43                             1.482   \n",
       " 4                        2.43                             1.501   \n",
       " ..                        ...                               ...   \n",
       " 144                      2.43                             0.451   \n",
       " 145                      2.43                             1.099   \n",
       " 146                      2.43                             0.364   \n",
       " 147                      2.43                             0.457   \n",
       " 148                      2.43                             0.370   \n",
       " \n",
       "      Explained by: Social support  Explained by: Healthy life expectancy  \\\n",
       " 0                           1.106                                  0.741   \n",
       " 1                           1.108                                  0.763   \n",
       " 2                           1.079                                  0.816   \n",
       " 3                           1.172                                  0.772   \n",
       " 4                           1.079                                  0.753   \n",
       " ..                            ...                                    ...   \n",
       " 144                         0.731                                  0.007   \n",
       " 145                         0.724                                  0.340   \n",
       " 146                         0.202                                  0.407   \n",
       " 147                         0.649                                  0.243   \n",
       " 148                         0.000                                  0.126   \n",
       " \n",
       "      Explained by: Freedom to make life choices  Explained by: Generosity  \\\n",
       " 0                                         0.691                     0.124   \n",
       " 1                                         0.686                     0.208   \n",
       " 2                                         0.653                     0.204   \n",
       " 3                                         0.698                     0.293   \n",
       " 4                                         0.647                     0.302   \n",
       " ..                                          ...                       ...   \n",
       " 144                                       0.405                     0.103   \n",
       " 145                                       0.539                     0.027   \n",
       " 146                                       0.627                     0.227   \n",
       " 147                                       0.359                     0.157   \n",
       " 148                                       0.000                     0.122   \n",
       " \n",
       "      Explained by: Perceptions of corruption  Dystopia + residual  \n",
       " 0                                      0.481                3.253  \n",
       " 1                                      0.485                2.868  \n",
       " 2                                      0.413                2.839  \n",
       " 3                                      0.170                2.967  \n",
       " 4                                      0.384                2.798  \n",
       " ..                                       ...                  ...  \n",
       " 144                                    0.015                1.800  \n",
       " 145                                    0.088                0.648  \n",
       " 146                                    0.493                1.095  \n",
       " 147                                    0.075                1.205  \n",
       " 148                                    0.010                1.895  \n",
       " \n",
       " [149 rows x 20 columns],\n",
       "      RANK      Country Happiness score Whisker-high Whisker-low  \\\n",
       " 0       1      Finland           7,821        7,886       7,756   \n",
       " 1       2      Denmark           7,636        7,710       7,563   \n",
       " 2       3      Iceland           7,557        7,651       7,464   \n",
       " 3       4  Switzerland           7,512        7,586       7,437   \n",
       " 4       5  Netherlands           7,415        7,471       7,359   \n",
       " ..    ...          ...             ...          ...         ...   \n",
       " 142   143      Rwanda*           3,268        3,462       3,074   \n",
       " 143   144     Zimbabwe           2,995        3,110       2,880   \n",
       " 144   145      Lebanon           2,955        3,049       2,862   \n",
       " 145   146  Afghanistan           2,404        2,469       2,339   \n",
       " 146   147           xx             NaN          NaN         NaN   \n",
       " \n",
       "     Dystopia (1.83) + residual Explained by: GDP per capita  \\\n",
       " 0                        2,518                        1,892   \n",
       " 1                        2,226                        1,953   \n",
       " 2                        2,320                        1,936   \n",
       " 3                        2,153                        2,026   \n",
       " 4                        2,137                        1,945   \n",
       " ..                         ...                          ...   \n",
       " 142                      0,536                        0,785   \n",
       " 143                      0,548                        0,947   \n",
       " 144                      0,216                        1,392   \n",
       " 145                      1,263                        0,758   \n",
       " 146                        NaN                          NaN   \n",
       " \n",
       "     Explained by: Social support Explained by: Healthy life expectancy  \\\n",
       " 0                          1,258                                 0,775   \n",
       " 1                          1,243                                 0,777   \n",
       " 2                          1,320                                 0,803   \n",
       " 3                          1,226                                 0,822   \n",
       " 4                          1,206                                 0,787   \n",
       " ..                           ...                                   ...   \n",
       " 142                        0,133                                 0,462   \n",
       " 143                        0,690                                 0,270   \n",
       " 144                        0,498                                 0,631   \n",
       " 145                        0,000                                 0,289   \n",
       " 146                          NaN                                   NaN   \n",
       " \n",
       "     Explained by: Freedom to make life choices Explained by: Generosity  \\\n",
       " 0                                        0,736                    0,109   \n",
       " 1                                        0,719                    0,188   \n",
       " 2                                        0,718                    0,270   \n",
       " 3                                        0,677                    0,147   \n",
       " 4                                        0,651                    0,271   \n",
       " ..                                         ...                      ...   \n",
       " 142                                      0,621                    0,187   \n",
       " 143                                      0,329                    0,106   \n",
       " 144                                      0,103                    0,082   \n",
       " 145                                      0,000                    0,089   \n",
       " 146                                        NaN                      NaN   \n",
       " \n",
       "     Explained by: Perceptions of corruption  \n",
       " 0                                     0,534  \n",
       " 1                                     0,532  \n",
       " 2                                     0,191  \n",
       " 3                                     0,461  \n",
       " 4                                     0,419  \n",
       " ..                                      ...  \n",
       " 142                                   0,544  \n",
       " 143                                   0,105  \n",
       " 144                                   0,034  \n",
       " 145                                   0,005  \n",
       " 146                                     NaN  \n",
       " \n",
       " [147 rows x 12 columns]]"
      ]
     },
     "execution_count": 14,
     "metadata": {},
     "output_type": "execute_result"
    }
   ],
   "source": [
    "df_list"
   ]
  },
  {
   "cell_type": "code",
   "execution_count": 15,
   "metadata": {},
   "outputs": [],
   "source": [
    "# Creating a consistent column mapping across years\n",
    "\n",
    "column_rename_map = {\n",
    "    'Country': 'Country',\n",
    "    'Country name': 'Country',\n",
    "    'Happiness.Score': 'Score',\n",
    "    'Happiness Score': 'Score',\n",
    "    'Life Ladder': 'Score',\n",
    "    'Economy (GDP per Capita)': 'GDP',\n",
    "    'GDP per capita': 'GDP',\n",
    "    'Social support': 'Social Support',\n",
    "    'Family': 'Social Support',\n",
    "    'Freedom to make life choices': 'Freedom',\n",
    "    'Freedom': 'Freedom',\n",
    "    'Healthy life expectancy': 'Healthy Life Expectancy',\n",
    "    'Health (Life Expectancy)': 'Healthy Life Expectancy',\n",
    "    'Generosity': 'Generosity',\n",
    "    'Perceptions of corruption': 'Corruption'\n",
    "}"
   ]
  },
  {
   "cell_type": "code",
   "execution_count": 16,
   "metadata": {},
   "outputs": [],
   "source": [
    "# Adding a 'Year' column\n",
    "\n",
    "years = list(range(2015, 2023))\n",
    "cleaned_dfs = []\n",
    "\n",
    "for i, df in enumerate(df_list):\n",
    "    df = df.rename(columns = column_rename_map)\n",
    "    df['Year'] = years[i]\n",
    "    cleaned_dfs.append(df)"
   ]
  },
  {
   "cell_type": "code",
   "execution_count": 17,
   "metadata": {},
   "outputs": [],
   "source": [
    "# Concatenating all years into one DataFrame\n",
    "\n",
    "all_data = pd.concat(cleaned_dfs, ignore_index = True)"
   ]
  },
  {
   "cell_type": "code",
   "execution_count": 18,
   "metadata": {},
   "outputs": [],
   "source": [
    "# Keeping only the relevant columns\n",
    "\n",
    "columns_to_keep = ['Country', 'Year', 'Score', 'GDP', 'Social Support', 'Freedom', 'Healthy Life Expectancy', 'Generosity']\n",
    "data = all_data[columns_to_keep]"
   ]
  },
  {
   "cell_type": "code",
   "execution_count": 21,
   "metadata": {},
   "outputs": [
    {
     "name": "stderr",
     "output_type": "stream",
     "text": [
      "<ipython-input-21-ea27aeb3f806>:4: SettingWithCopyWarning: \n",
      "A value is trying to be set on a copy of a slice from a DataFrame.\n",
      "Try using .loc[row_indexer,col_indexer] = value instead\n",
      "\n",
      "See the caveats in the documentation: https://pandas.pydata.org/pandas-docs/stable/user_guide/indexing.html#returning-a-view-versus-a-copy\n",
      "  data[col] = pd.to_numeric(data[col], errors='coerce')\n"
     ]
    }
   ],
   "source": [
    "# Converting numeric columns to proper types\n",
    "\n",
    "for col in ['Score', 'GDP', 'Social Support', 'Freedom', 'Healthy Life Expectancy', 'Generosity']:\n",
    "    data[col] = pd.to_numeric(data[col], errors='coerce')"
   ]
  },
  {
   "cell_type": "code",
   "execution_count": 22,
   "metadata": {},
   "outputs": [
    {
     "name": "stderr",
     "output_type": "stream",
     "text": [
      "<ipython-input-22-ca0eebe48060>:2: SettingWithCopyWarning: \n",
      "A value is trying to be set on a copy of a slice from a DataFrame.\n",
      "Try using .loc[row_indexer,col_indexer] = value instead\n",
      "\n",
      "See the caveats in the documentation: https://pandas.pydata.org/pandas-docs/stable/user_guide/indexing.html#returning-a-view-versus-a-copy\n",
      "  data[col] = data.groupby('Year')[col].transform(lambda x: x.fillna(x.mean()))\n"
     ]
    }
   ],
   "source": [
    "for col in ['Score', 'GDP', 'Social Support', 'Freedom', 'Healthy Life Expectancy', 'Generosity']:\n",
    "    data[col] = data.groupby('Year')[col].transform(lambda x: x.fillna(x.mean()))"
   ]
  },
  {
   "cell_type": "code",
   "execution_count": 23,
   "metadata": {},
   "outputs": [
    {
     "name": "stdout",
     "output_type": "stream",
     "text": [
      "Summary statistics:\n",
      "\n",
      "              Year       Score         GDP  Social Support      Freedom  \\\n",
      "count  1231.000000  782.000000  627.000000     1084.000000  1084.000000   \n",
      "mean   2018.450041    5.379018    0.899071        1.004091     0.515936   \n",
      "std       2.284034    1.127456    0.402485        0.310650     0.221478   \n",
      "min    2015.000000    2.693000    0.000000        0.000000     0.000000   \n",
      "25%    2016.000000    4.509750    0.595375        0.805747     0.366948   \n",
      "50%    2018.000000    5.322000    0.960000        0.948000     0.502269   \n",
      "75%    2020.000000    6.189500    1.221000        1.247028     0.658436   \n",
      "max    2022.000000    7.769000    2.096000        1.644000     0.974998   \n",
      "\n",
      "       Healthy Life Expectancy   Generosity  \n",
      "count               929.000000  1084.000000  \n",
      "mean                 21.461296     0.153545  \n",
      "std                  30.292543     0.167592  \n",
      "min                   0.000000    -0.300907  \n",
      "25%                   0.589910     0.064828  \n",
      "50%                   0.814440     0.162140  \n",
      "75%                  58.924454     0.252000  \n",
      "max                  76.953000     0.838075  \n"
     ]
    }
   ],
   "source": [
    "print(\"Summary statistics:\\n\")\n",
    "print(data.describe())"
   ]
  },
  {
   "cell_type": "code",
   "execution_count": 24,
   "metadata": {},
   "outputs": [
    {
     "data": {
      "image/png": "[encoded data removed]",
      "text/plain": [
       "<Figure size 864x432 with 1 Axes>"
      ]
     },
     "metadata": {},
     "output_type": "display_data"
    }
   ],
   "source": [
    "# Visualization\n",
    "# Average score by Year\n",
    "\n",
    "plt.figure()\n",
    "sns.lineplot(x='Year', y='Score', data=data, estimator='mean', ci=None)\n",
    "plt.title('Avearge Happiness Score by Year')\n",
    "plt.ylabel('Average Score')\n",
    "plt.xlabel('Year')\n",
    "plt.tight_layout()\n",
    "plt.show()"
   ]
  },
  {
   "cell_type": "code",
   "execution_count": 27,
   "metadata": {},
   "outputs": [
    {
     "data": {
      "image/png": "[encoded data removed]",
      "text/plain": [
       "<Figure size 864x432 with 1 Axes>"
      ]
     },
     "metadata": {},
     "output_type": "display_data"
    }
   ],
   "source": [
    "# Top 10 Happiest Countries \n",
    "\n",
    "mean_score = data.groupby('Country')['Score'].mean().sort_values(ascending=False).head(10)\n",
    "plt.figure()\n",
    "sns.barplot(x=mean_score.values, y=mean_score.index, palette='viridis')\n",
    "plt.title('Top 10 Happiest Countries (2015-2022)')\n",
    "plt.xlabel('Average Happiness Score')\n",
    "plt.tight_layout()\n",
    "plt.show()"
   ]
  },
  {
   "cell_type": "code",
   "execution_count": 28,
   "metadata": {},
   "outputs": [
    {
     "data": {
      "image/png": "[encoded data removed]",
      "text/plain": [
       "<Figure size 864x432 with 2 Axes>"
      ]
     },
     "metadata": {},
     "output_type": "display_data"
    }
   ],
   "source": [
    "# Correlation heatmap\n",
    "\n",
    "plt.figure()\n",
    "sns.heatmap(data.drop(['Country', 'Year'], axis = 1).corr(), annot=True, cmap='coolwarm')\n",
    "plt.title('Correlation Between Happiness Factors')\n",
    "plt.tight_layout()\n",
    "plt.show()"
   ]
  },
  {
   "cell_type": "code",
   "execution_count": 30,
   "metadata": {},
   "outputs": [
    {
     "data": {
      "application/vnd.plotly.v1+json": {
       "config": {
        "plotlyServerURL": "https://plot.ly"
       },
       "data": [
        {
         "hovertemplate": "<b>%{hovertext}</b><br><br>GDP=%{x}<br>Score=%{y}<br>Year=%{marker.color}<extra></extra>",
         "hovertext": [
          "Switzerland",
          "Iceland",
          "Denmark",
          "Norway",
          "Canada",
          "Finland",
          "Netherlands",
          "Sweden",
          "New Zealand",
          "Australia",
          "Israel",
          "Costa Rica",
          "Austria",
          "Mexico",
          "United States",
          "Brazil",
          "Luxembourg",
          "Ireland",
          "Belgium",
          "United Arab Emirates",
          "United Kingdom",
          "Oman",
          "Venezuela",
          "Singapore",
          "Panama",
          "Germany",
          "Chile",
          "Qatar",
          "France",
          "Argentina",
          "Czech Republic",
          "Uruguay",
          "Colombia",
          "Thailand",
          "Saudi Arabia",
          "Spain",
          "Malta",
          "Taiwan",
          "Kuwait",
          "Suriname",
          "Trinidad and Tobago",
          "El Salvador",
          "Guatemala",
          "Uzbekistan",
          "Slovakia",
          "Japan",
          "South Korea",
          "Ecuador",
          "Bahrain",
          "Italy",
          "Bolivia",
          "Moldova",
          "Paraguay",
          "Kazakhstan",
          "Slovenia",
          "Lithuania",
          "Nicaragua",
          "Peru",
          "Belarus",
          "Poland",
          "Malaysia",
          "Croatia",
          "Libya",
          "Russia",
          "Jamaica",
          "North Cyprus",
          "Cyprus",
          "Algeria",
          "Kosovo",
          "Turkmenistan",
          "Mauritius",
          "Hong Kong",
          "Estonia",
          "Indonesia",
          "Vietnam",
          "Turkey",
          "Kyrgyzstan",
          "Nigeria",
          "Bhutan",
          "Azerbaijan",
          "Pakistan",
          "Jordan",
          "Montenegro",
          "China",
          "Zambia",
          "Romania",
          "Serbia",
          "Portugal",
          "Latvia",
          "Philippines",
          "Somaliland region",
          "Morocco",
          "Macedonia",
          "Mozambique",
          "Albania",
          "Bosnia and Herzegovina",
          "Lesotho",
          "Dominican Republic",
          "Laos",
          "Mongolia",
          "Swaziland",
          "Greece",
          "Lebanon",
          "Hungary",
          "Honduras",
          "Tajikistan",
          "Tunisia",
          "Palestinian Territories",
          "Bangladesh",
          "Iran",
          "Ukraine",
          "Iraq",
          "South Africa",
          "Ghana",
          "Zimbabwe",
          "Liberia",
          "India",
          "Sudan",
          "Haiti",
          "Congo (Kinshasa)",
          "Nepal",
          "Ethiopia",
          "Sierra Leone",
          "Mauritania",
          "Kenya",
          "Djibouti",
          "Armenia",
          "Botswana",
          "Myanmar",
          "Georgia",
          "Malawi",
          "Sri Lanka",
          "Cameroon",
          "Bulgaria",
          "Egypt",
          "Yemen",
          "Angola",
          "Mali",
          "Congo (Brazzaville)",
          "Comoros",
          "Uganda",
          "Senegal",
          "Gabon",
          "Niger",
          "Cambodia",
          "Tanzania",
          "Madagascar",
          "Central African Republic",
          "Chad",
          "Guinea",
          "Ivory Coast",
          "Burkina Faso",
          "Afghanistan",
          "Rwanda",
          "Benin",
          "Syria",
          "Burundi",
          "Togo",
          "Denmark",
          "Switzerland",
          "Iceland",
          "Norway",
          "Finland",
          "Canada",
          "Netherlands",
          "New Zealand",
          "Australia",
          "Sweden",
          "Israel",
          "Austria",
          "United States",
          "Costa Rica",
          "Puerto Rico",
          "Germany",
          "Brazil",
          "Belgium",
          "Ireland",
          "Luxembourg",
          "Mexico",
          "Singapore",
          "United Kingdom",
          "Chile",
          "Panama",
          "Argentina",
          "Czech Republic",
          "United Arab Emirates",
          "Uruguay",
          "Malta",
          "Colombia",
          "France",
          "Thailand",
          "Saudi Arabia",
          "Taiwan",
          "Qatar",
          "Spain",
          "Algeria",
          "Guatemala",
          "Suriname",
          "Kuwait",
          "Bahrain",
          "Trinidad and Tobago",
          "Venezuela",
          "Slovakia",
          "El Salvador",
          "Malaysia",
          "Nicaragua",
          "Uzbekistan",
          "Italy",
          "Ecuador",
          "Belize",
          "Japan",
          "Kazakhstan",
          "Moldova",
          "Russia",
          "Poland",
          "South Korea",
          "Bolivia",
          "Lithuania",
          "Belarus",
          "North Cyprus",
          "Slovenia",
          "Peru",
          "Turkmenistan",
          "Mauritius",
          "Libya",
          "Latvia",
          "Cyprus",
          "Paraguay",
          "Romania",
          "Estonia",
          "Jamaica",
          "Croatia",
          "Hong Kong",
          "Somalia",
          "Kosovo",
          "Turkey",
          "Indonesia",
          "Jordan",
          "Azerbaijan",
          "Philippines",
          "China",
          "Bhutan",
          "Kyrgyzstan",
          "Serbia",
          "Bosnia and Herzegovina",
          "Montenegro",
          "Dominican Republic",
          "Morocco",
          "Hungary",
          "Pakistan",
          "Lebanon",
          "Portugal",
          "Macedonia",
          "Vietnam",
          "Somaliland Region",
          "Tunisia",
          "Greece",
          "Tajikistan",
          "Mongolia",
          "Laos",
          "Nigeria",
          "Honduras",
          "Iran",
          "Zambia",
          "Nepal",
          "Palestinian Territories",
          "Albania",
          "Bangladesh",
          "Sierra Leone",
          "Iraq",
          "Namibia",
          "Cameroon",
          "Ethiopia",
          "South Africa",
          "Sri Lanka",
          "India",
          "Myanmar",
          "Egypt",
          "Armenia",
          "Kenya",
          "Ukraine",
          "Ghana",
          "Congo (Kinshasa)",
          "Georgia",
          "Congo (Brazzaville)",
          "Senegal",
          "Bulgaria",
          "Mauritania",
          "Zimbabwe",
          "Malawi",
          "Sudan",
          "Gabon",
          "Mali",
          "Haiti",
          "Botswana",
          "Comoros",
          "Ivory Coast",
          "Cambodia",
          "Angola",
          "Niger",
          "South Sudan",
          "Chad",
          "Burkina Faso",
          "Uganda",
          "Yemen",
          "Madagascar",
          "Tanzania",
          "Liberia",
          "Guinea",
          "Rwanda",
          "Benin",
          "Afghanistan",
          "Togo",
          "Syria",
          "Burundi",
          "Norway",
          "Denmark",
          "Iceland",
          "Switzerland",
          "Finland",
          "Netherlands",
          "Canada",
          "New Zealand",
          "Sweden",
          "Australia",
          "Israel",
          "Costa Rica",
          "Austria",
          "United States",
          "Ireland",
          "Germany",
          "Belgium",
          "Luxembourg",
          "United Kingdom",
          "Chile",
          "United Arab Emirates",
          "Brazil",
          "Czech Republic",
          "Argentina",
          "Mexico",
          "Singapore",
          "Malta",
          "Uruguay",
          "Guatemala",
          "Panama",
          "France",
          "Thailand",
          "Taiwan Province of China",
          "Spain",
          "Qatar",
          "Colombia",
          "Saudi Arabia",
          "Trinidad and Tobago",
          "Kuwait",
          "Slovakia",
          "Bahrain",
          "Malaysia",
          "Nicaragua",
          "Ecuador",
          "El Salvador",
          "Poland",
          "Uzbekistan",
          "Italy",
          "Russia",
          "Belize",
          "Japan",
          "Lithuania",
          "Algeria",
          "Latvia",
          "South Korea",
          "Moldova",
          "Romania",
          "Bolivia",
          "Turkmenistan",
          "Kazakhstan",
          "North Cyprus",
          "Slovenia",
          "Peru",
          "Mauritius",
          "Cyprus",
          "Estonia",
          "Belarus",
          "Libya",
          "Turkey",
          "Paraguay",
          "Hong Kong S.A.R., China",
          "Philippines",
          "Serbia",
          "Jordan",
          "Hungary",
          "Jamaica",
          "Croatia",
          "Kosovo",
          "China",
          "Pakistan",
          "Indonesia",
          "Venezuela",
          "Montenegro",
          "Morocco",
          "Azerbaijan",
          "Dominican Republic",
          "Greece",
          "Lebanon",
          "Portugal",
          "Bosnia and Herzegovina",
          "Honduras",
          "Macedonia",
          "Somalia",
          "Vietnam",
          "Nigeria",
          "Tajikistan",
          "Bhutan",
          "Kyrgyzstan",
          "Nepal",
          "Mongolia",
          "South Africa",
          "Tunisia",
          "Palestinian Territories",
          "Egypt",
          "Bulgaria",
          "Sierra Leone",
          "Cameroon",
          "Iran",
          "Albania",
          "Bangladesh",
          "Namibia",
          "Kenya",
          "Mozambique",
          "Myanmar",
          "Senegal",
          "Zambia",
          "Iraq",
          "Gabon",
          "Ethiopia",
          "Sri Lanka",
          "Armenia",
          "India",
          "Mauritania",
          "Congo (Brazzaville)",
          "Georgia",
          "Congo (Kinshasa)",
          "Mali",
          "Ivory Coast",
          "Cambodia",
          "Sudan",
          "Ghana",
          "Ukraine",
          "Uganda",
          "Burkina Faso",
          "Niger",
          "Malawi",
          "Chad",
          "Zimbabwe",
          "Lesotho",
          "Angola",
          "Afghanistan",
          "Botswana",
          "Benin",
          "Madagascar",
          "Haiti",
          "Yemen",
          "South Sudan",
          "Liberia",
          "Guinea",
          "Togo",
          "Rwanda",
          "Syria",
          "Tanzania",
          "Burundi",
          "Central African Republic",
          null,
          null,
          null,
          null,
          null,
          null,
          null,
          null,
          null,
          null,
          null,
          null,
          null,
          null,
          null,
          null,
          null,
          null,
          null,
          null,
          null,
          null,
          null,
          null,
          null,
          null,
          null,
          null,
          null,
          null,
          null,
          null,
          null,
          null,
          null,
          null,
          null,
          null,
          null,
          null,
          null,
          null,
          null,
          null,
          null,
          null,
          null,
          null,
          null,
          null,
          null,
          null,
          null,
          null,
          null,
          null,
          null,
          null,
          null,
          null,
          null,
          null,
          null,
          null,
          null,
          null,
          null,
          null,
          null,
          null,
          null,
          null,
          null,
          null,
          null,
          null,
          null,
          null,
          null,
          null,
          null,
          null,
          null,
          null,
          null,
          null,
          null,
          null,
          null,
          null,
          null,
          null,
          null,
          null,
          null,
          null,
          null,
          null,
          null,
          null,
          null,
          null,
          null,
          null,
          null,
          null,
          null,
          null,
          null,
          null,
          null,
          null,
          null,
          null,
          null,
          null,
          null,
          null,
          null,
          null,
          null,
          null,
          null,
          null,
          null,
          null,
          null,
          null,
          null,
          null,
          null,
          null,
          null,
          null,
          null,
          null,
          null,
          null,
          null,
          null,
          null,
          null,
          null,
          null,
          null,
          null,
          null,
          null,
          null,
          null,
          null,
          null,
          null,
          null,
          null,
          null,
          null,
          null,
          null,
          null,
          null,
          null,
          null,
          null,
          null,
          null,
          null,
          null,
          null,
          null,
          null,
          null,
          null,
          null,
          null,
          null,
          null,
          null,
          null,
          null,
          null,
          null,
          null,
          null,
          null,
          null,
          null,
          null,
          null,
          null,
          null,
          null,
          null,
          null,
          null,
          null,
          null,
          null,
          null,
          null,
          null,
          null,
          null,
          null,
          null,
          null,
          null,
          null,
          null,
          null,
          null,
          null,
          null,
          null,
          null,
          null,
          null,
          null,
          null,
          null,
          null,
          null,
          null,
          null,
          null,
          null,
          null,
          null,
          null,
          null,
          null,
          null,
          null,
          null,
          null,
          null,
          null,
          null,
          null,
          null,
          null,
          null,
          null,
          null,
          null,
          null,
          null,
          null,
          null,
          null,
          null,
          null,
          null,
          null,
          null,
          null,
          null,
          null,
          null,
          null,
          null,
          null,
          null,
          null,
          null,
          null,
          null,
          null,
          null,
          null,
          null,
          null,
          null,
          null,
          null,
          null,
          null,
          null,
          null,
          null,
          null,
          null,
          null,
          null,
          null,
          null,
          null,
          null,
          null,
          null,
          null,
          null,
          null,
          null,
          null,
          null,
          null,
          null,
          null,
          null,
          null,
          null,
          null,
          null,
          null,
          null,
          null,
          null,
          null,
          null,
          null,
          null,
          "Finland",
          "Denmark",
          "Switzerland",
          "Iceland",
          "Norway",
          "Netherlands",
          "Sweden",
          "New Zealand",
          "Austria",
          "Luxembourg",
          "Canada",
          "Australia",
          "United Kingdom",
          "Israel",
          "Costa Rica",
          "Ireland",
          "Germany",
          "United States",
          "Czech Republic",
          "Belgium",
          "United Arab Emirates",
          "Malta",
          "France",
          "Mexico",
          "Taiwan Province of China",
          "Uruguay",
          "Saudi Arabia",
          "Spain",
          "Guatemala",
          "Italy",
          "Singapore",
          "Brazil",
          "Slovenia",
          "El Salvador",
          "Kosovo",
          "Panama",
          "Slovakia",
          "Uzbekistan",
          "Chile",
          "Bahrain",
          "Lithuania",
          "Trinidad and Tobago",
          "Poland",
          "Colombia",
          "Cyprus",
          "Nicaragua",
          "Romania",
          "Kuwait",
          "Mauritius",
          "Kazakhstan",
          "Estonia",
          "Philippines",
          "Hungary",
          "Thailand",
          "Argentina",
          "Honduras",
          "Latvia",
          "Ecuador",
          "Portugal",
          "Jamaica",
          "South Korea",
          "Japan",
          "Peru",
          "Serbia",
          "Bolivia",
          "Pakistan",
          "Paraguay",
          "Dominican Republic",
          "Bosnia and Herzegovina",
          "Moldova",
          "Tajikistan",
          "Montenegro",
          "Russia",
          "Kyrgyzstan",
          "Belarus",
          "North Cyprus",
          "Greece",
          "Hong Kong S.A.R. of China",
          "Croatia",
          "Libya",
          "Mongolia",
          "Malaysia",
          "Vietnam",
          "Indonesia",
          "Ivory Coast",
          "Benin",
          "Maldives",
          "Congo (Brazzaville)",
          "Azerbaijan",
          "Macedonia",
          "Ghana",
          "Nepal",
          "Turkey",
          "China",
          "Turkmenistan",
          "Bulgaria",
          "Morocco",
          "Cameroon",
          "Venezuela",
          "Algeria",
          "Senegal",
          "Guinea",
          "Niger",
          "Laos",
          "Albania",
          "Cambodia",
          "Bangladesh",
          "Gabon",
          "South Africa",
          "Iraq",
          "Lebanon",
          "Burkina Faso",
          "Gambia",
          "Mali",
          "Nigeria",
          "Armenia",
          "Georgia",
          "Iran",
          "Jordan",
          "Mozambique",
          "Kenya",
          "Namibia",
          "Ukraine",
          "Liberia",
          "Palestinian Territories",
          "Uganda",
          "Chad",
          "Tunisia",
          "Mauritania",
          "Sri Lanka",
          "Congo (Kinshasa)",
          "Swaziland",
          "Myanmar",
          "Comoros",
          "Togo",
          "Ethiopia",
          "Madagascar",
          "Egypt",
          "Sierra Leone",
          "Burundi",
          "Zambia",
          "Haiti",
          "Lesotho",
          "India",
          "Malawi",
          "Yemen",
          "Botswana",
          "Tanzania",
          "Central African Republic",
          "Rwanda",
          "Zimbabwe",
          "South Sudan",
          "Afghanistan",
          "Finland",
          "Denmark",
          "Switzerland",
          "Iceland",
          "Netherlands",
          "Norway",
          "Sweden",
          "Luxembourg",
          "New Zealand",
          "Austria",
          "Australia",
          "Israel",
          "Germany",
          "Canada",
          "Ireland",
          "Costa Rica",
          "United Kingdom",
          "Czech Republic",
          "United States",
          "Belgium",
          "France",
          "Bahrain",
          "Malta",
          "Taiwan Province of China",
          "United Arab Emirates",
          "Saudi Arabia",
          "Spain",
          "Italy",
          "Slovenia",
          "Guatemala",
          "Uruguay",
          "Singapore",
          "Kosovo",
          "Slovakia",
          "Brazil",
          "Mexico",
          "Jamaica",
          "Lithuania",
          "Cyprus",
          "Estonia",
          "Panama",
          "Uzbekistan",
          "Chile",
          "Poland",
          "Kazakhstan",
          "Romania",
          "Kuwait",
          "Serbia",
          "El Salvador",
          "Mauritius",
          "Latvia",
          "Colombia",
          "Hungary",
          "Thailand",
          "Nicaragua",
          "Japan",
          "Argentina",
          "Portugal",
          "Honduras",
          "Croatia",
          "Philippines",
          "South Korea",
          "Peru",
          "Bosnia and Herzegovina",
          "Moldova",
          "Ecuador",
          "Kyrgyzstan",
          "Greece",
          "Bolivia",
          "Mongolia",
          "Paraguay",
          "Montenegro",
          "Dominican Republic",
          "North Cyprus",
          "Belarus",
          "Russia",
          "Hong Kong S.A.R. of China",
          "Tajikistan",
          "Vietnam",
          "Libya",
          "Malaysia",
          "Indonesia",
          "Congo (Brazzaville)",
          "China",
          "Ivory Coast",
          "Armenia",
          "Nepal",
          "Bulgaria",
          "Maldives",
          "Azerbaijan",
          "Cameroon",
          "Senegal",
          "Albania",
          "North Macedonia",
          "Ghana",
          "Niger",
          "Turkmenistan",
          "Gambia",
          "Benin",
          "Laos",
          "Bangladesh",
          "Guinea",
          "South Africa",
          "Turkey",
          "Pakistan",
          "Morocco",
          "Venezuela",
          "Georgia",
          "Algeria",
          "Ukraine",
          "Iraq",
          "Gabon",
          "Burkina Faso",
          "Cambodia",
          "Mozambique",
          "Nigeria",
          "Mali",
          "Iran",
          "Uganda",
          "Liberia",
          "Kenya",
          "Tunisia",
          "Lebanon",
          "Namibia",
          "Palestinian Territories",
          "Myanmar",
          "Jordan",
          "Chad",
          "Sri Lanka",
          "Swaziland",
          "Comoros",
          "Egypt",
          "Ethiopia",
          "Mauritania",
          "Madagascar",
          "Togo",
          "Zambia",
          "Sierra Leone",
          "India",
          "Burundi",
          "Yemen",
          "Tanzania",
          "Haiti",
          "Malawi",
          "Lesotho",
          "Botswana",
          "Rwanda",
          "Zimbabwe",
          "Afghanistan",
          "Finland",
          "Denmark",
          "Iceland",
          "Switzerland",
          "Netherlands",
          "Luxembourg*",
          "Sweden",
          "Norway",
          "Israel",
          "New Zealand",
          "Austria",
          "Australia",
          "Ireland",
          "Germany",
          "Canada",
          "United States",
          "United Kingdom",
          "Czechia",
          "Belgium",
          "France",
          "Bahrain",
          "Slovenia",
          "Costa Rica",
          "United Arab Emirates",
          "Saudi Arabia",
          "Taiwan Province of China",
          "Singapore",
          "Romania",
          "Spain",
          "Uruguay",
          "Italy",
          "Kosovo",
          "Malta",
          "Lithuania",
          "Slovakia",
          "Estonia",
          "Panama",
          "Brazil",
          "Guatemala*",
          "Kazakhstan",
          "Cyprus",
          "Latvia",
          "Serbia",
          "Chile",
          "Nicaragua",
          "Mexico",
          "Croatia",
          "Poland",
          "El Salvador",
          "Kuwait*",
          "Hungary",
          "Mauritius",
          "Uzbekistan",
          "Japan",
          "Honduras",
          "Portugal",
          "Argentina",
          "Greece",
          "South Korea",
          "Philippines",
          "Thailand",
          "Moldova",
          "Jamaica",
          "Kyrgyzstan",
          "Belarus*",
          "Colombia",
          "Bosnia and Herzegovina",
          "Mongolia",
          "Dominican Republic",
          "Malaysia",
          "Bolivia",
          "China",
          "Paraguay",
          "Peru",
          "Montenegro",
          "Ecuador",
          "Vietnam",
          "Turkmenistan*",
          "North Cyprus*",
          "Russia",
          "Hong Kong S.A.R. of China",
          "Armenia",
          "Tajikistan",
          "Nepal",
          "Bulgaria",
          "Libya*",
          "Indonesia",
          "Ivory Coast",
          "North Macedonia",
          "Albania",
          "South Africa",
          "Azerbaijan*",
          "Gambia*",
          "Bangladesh",
          "Laos",
          "Algeria",
          "Liberia*",
          "Ukraine",
          "Congo",
          "Morocco",
          "Mozambique",
          "Cameroon",
          "Senegal",
          "Niger*",
          "Georgia",
          "Gabon",
          "Iraq",
          "Venezuela",
          "Guinea",
          "Iran",
          "Ghana",
          "Turkey",
          "Burkina Faso",
          "Cambodia",
          "Benin",
          "Comoros*",
          "Uganda",
          "Nigeria",
          "Kenya",
          "Tunisia",
          "Pakistan",
          "Palestinian Territories*",
          "Mali",
          "Namibia",
          "Eswatini, Kingdom of*",
          "Myanmar",
          "Sri Lanka",
          "Madagascar*",
          "Egypt",
          "Chad*",
          "Ethiopia",
          "Yemen*",
          "Mauritania*",
          "Jordan",
          "Togo",
          "India",
          "Zambia",
          "Malawi",
          "Tanzania",
          "Sierra Leone",
          "Lesotho*",
          "Botswana*",
          "Rwanda*",
          "Zimbabwe",
          "Lebanon",
          "Afghanistan",
          "xx"
         ],
         "legendgroup": "",
         "marker": {
          "color": {
           "bdata": "3wffB98H3wffB98H3wffB98H3wffB98H3wffB98H3wffB98H3wffB98H3wffB98H3wffB98H3wffB98H3wffB98H3wffB98H3wffB98H3wffB98H3wffB98H3wffB98H3wffB98H3wffB98H3wffB98H3wffB98H3wffB98H3wffB98H3wffB98H3wffB98H3wffB98H3wffB98H3wffB98H3wffB98H3wffB98H3wffB98H3wffB98H3wffB98H3wffB98H3wffB98H3wffB98H3wffB98H3wffB98H3wffB98H3wffB98H3wffB98H3wffB98H3wffB98H3wffB98H3wffB98H3wffB98H3wffB98H3wffB98H3wffB98H3wffB98H3wffB98H3wffB98H3wffB98H3wffB+AH4AfgB+AH4AfgB+AH4AfgB+AH4AfgB+AH4AfgB+AH4AfgB+AH4AfgB+AH4AfgB+AH4AfgB+AH4AfgB+AH4AfgB+AH4AfgB+AH4AfgB+AH4AfgB+AH4AfgB+AH4AfgB+AH4AfgB+AH4AfgB+AH4AfgB+AH4AfgB+AH4AfgB+AH4AfgB+AH4AfgB+AH4AfgB+AH4AfgB+AH4AfgB+AH4AfgB+AH4AfgB+AH4AfgB+AH4AfgB+AH4AfgB+AH4AfgB+AH4AfgB+AH4AfgB+AH4AfgB+AH4AfgB+AH4AfgB+AH4AfgB+AH4AfgB+AH4AfgB+AH4AfgB+AH4AfgB+AH4AfgB+AH4AfgB+AH4AfgB+AH4AfgB+AH4AfgB+AH4AfgB+AH4AfgB+AH4AfgB+AH4AfgB+AH4AfgB+AH4QfhB+EH4QfhB+EH4QfhB+EH4QfhB+EH4QfhB+EH4QfhB+EH4QfhB+EH4QfhB+EH4QfhB+EH4QfhB+EH4QfhB+EH4QfhB+EH4QfhB+EH4QfhB+EH4QfhB+EH4QfhB+EH4QfhB+EH4QfhB+EH4QfhB+EH4QfhB+EH4QfhB+EH4QfhB+EH4QfhB+EH4QfhB+EH4QfhB+EH4QfhB+EH4QfhB+EH4QfhB+EH4QfhB+EH4QfhB+EH4QfhB+EH4QfhB+EH4QfhB+EH4QfhB+EH4QfhB+EH4QfhB+EH4QfhB+EH4QfhB+EH4QfhB+EH4QfhB+EH4QfhB+EH4QfhB+EH4QfhB+EH4QfhB+EH4QfhB+EH4QfhB+EH4QfhB+EH4QfhB+EH4QfhB+EH4QfhB+EH4QfhB+EH4QfhB+IH4gfiB+IH4gfiB+IH4gfiB+IH4gfiB+IH4gfiB+IH4gfiB+IH4gfiB+IH4gfiB+IH4gfiB+IH4gfiB+IH4gfiB+IH4gfiB+IH4gfiB+IH4gfiB+IH4gfiB+IH4gfiB+IH4gfiB+IH4gfiB+IH4gfiB+IH4gfiB+IH4gfiB+IH4gfiB+IH4gfiB+IH4gfiB+IH4gfiB+IH4gfiB+IH4gfiB+IH4gfiB+IH4gfiB+IH4gfiB+IH4gfiB+IH4gfiB+IH4gfiB+IH4gfiB+IH4gfiB+IH4gfiB+IH4gfiB+IH4gfiB+IH4gfiB+IH4gfiB+IH4gfiB+IH4gfiB+IH4gfiB+IH4gfiB+IH4gfiB+IH4gfiB+IH4gfiB+IH4gfiB+IH4gfiB+IH4gfiB+IH4gfiB+IH4gfiB+MH4wfjB+MH4wfjB+MH4wfjB+MH4wfjB+MH4wfjB+MH4wfjB+MH4wfjB+MH4wfjB+MH4wfjB+MH4wfjB+MH4wfjB+MH4wfjB+MH4wfjB+MH4wfjB+MH4wfjB+MH4wfjB+MH4wfjB+MH4wfjB+MH4wfjB+MH4wfjB+MH4wfjB+MH4wfjB+MH4wfjB+MH4wfjB+MH4wfjB+MH4wfjB+MH4wfjB+MH4wfjB+MH4wfjB+MH4wfjB+MH4wfjB+MH4wfjB+MH4wfjB+MH4wfjB+MH4wfjB+MH4wfjB+MH4wfjB+MH4wfjB+MH4wfjB+MH4wfjB+MH4wfjB+MH4wfjB+MH4wfjB+MH4wfjB+MH4wfjB+MH4wfjB+MH4wfjB+MH4wfjB+MH4wfjB+MH4wfjB+MH4wfjB+MH4wfjB+QH5AfkB+QH5AfkB+QH5AfkB+QH5AfkB+QH5AfkB+QH5AfkB+QH5AfkB+QH5AfkB+QH5AfkB+QH5AfkB+QH5AfkB+QH5AfkB+QH5AfkB+QH5AfkB+QH5AfkB+QH5AfkB+QH5AfkB+QH5AfkB+QH5AfkB+QH5AfkB+QH5AfkB+QH5AfkB+QH5AfkB+QH5AfkB+QH5AfkB+QH5AfkB+QH5AfkB+QH5AfkB+QH5AfkB+QH5AfkB+QH5AfkB+QH5AfkB+QH5AfkB+QH5AfkB+QH5AfkB+QH5AfkB+QH5AfkB+QH5AfkB+QH5AfkB+QH5AfkB+QH5AfkB+QH5AfkB+QH5AfkB+QH5AfkB+QH5AfkB+QH5AfkB+QH5AfkB+QH5AfkB+QH5AfkB+QH5AfkB+QH5AfkB+UH5QflB+UH5QflB+UH5QflB+UH5QflB+UH5QflB+UH5QflB+UH5QflB+UH5QflB+UH5QflB+UH5QflB+UH5QflB+UH5QflB+UH5QflB+UH5QflB+UH5QflB+UH5QflB+UH5QflB+UH5QflB+UH5QflB+UH5QflB+UH5QflB+UH5QflB+UH5QflB+UH5QflB+UH5QflB+UH5QflB+UH5QflB+UH5QflB+UH5QflB+UH5QflB+UH5QflB+UH5QflB+UH5QflB+UH5QflB+UH5QflB+UH5QflB+UH5QflB+UH5QflB+UH5QflB+UH5QflB+UH5QflB+UH5QflB+UH5QflB+UH5QflB+UH5QflB+UH5QflB+UH5QflB+UH5QflB+UH5QflB+UH5QfmB+YH5gfmB+YH5gfmB+YH5gfmB+YH5gfmB+YH5gfmB+YH5gfmB+YH5gfmB+YH5gfmB+YH5gfmB+YH5gfmB+YH5gfmB+YH5gfmB+YH5gfmB+YH5gfmB+YH5gfmB+YH5gfmB+YH5gfmB+YH5gfmB+YH5gfmB+YH5gfmB+YH5gfmB+YH5gfmB+YH5gfmB+YH5gfmB+YH5gfmB+YH5gfmB+YH5gfmB+YH5gfmB+YH5gfmB+YH5gfmB+YH5gfmB+YH5gfmB+YH5gfmB+YH5gfmB+YH5gfmB+YH5gfmB+YH5gfmB+YH5gfmB+YH5gfmB+YH5gfmB+YH5gfmB+YH5gfmB+YH5gfmB+YH5gfmB+YH5gfmB+YH5gfmB+YH5gfmB+YH5gfmB+YH5gc=",
           "dtype": "i2"
          },
          "coloraxis": "coloraxis",
          "symbol": "circle"
         },
         "mode": "markers",
         "name": "",
         "showlegend": false,
         "type": "scattergl",
         "x": {
          "bdata": "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",
          "dtype": "f8"
         },
         "xaxis": "x",
         "y": {
          "bdata": "DQIrhxZZHkBYObTIdj4eQM/3U+OlGx5ASgwCK4cWHkBpke18P7UdQDq0yHa+nx1AT42XbhKDHUDb+X5qvHQdQL+fGi/dJB1AiUFg5dAiHUDpJjEIrBwdQIGVQ4ts5xxAzczMzMzMHEBzaJHtfL8cQGDl0CLbeRxAO99PjZfuG0BjEFg5tMgbQMP1KFyPwhtAc2iR7Xy/G0C0yHa+n5obQCyHFtnOdxtAtvP91HhpG0A9CtejcD0bQP3UeOkmMRtAv58aL90kG0AAAAAAAAAbQK5H4XoUrhpAjGzn+6lxGkDNzMzMzEwaQLKd76fGSxpAhetRuB4FGkBxPQrXo/AZQJzEILBy6BlAUrgehevRGUC/nxov3aQZQDeJQWDlUBlAaZHtfD81GUD91HjpJjEZQK5H4XoULhlA+n5qvHQTGUB46SYxCKwYQIXrUbgehRhAyqFFtvN9GEBPjZduEgMYQHsUrkfh+hdAppvEILDyF0BWDi2yne8XQGZmZmZm5hdA16NwPQrXF0CXbhKDwMoXQI/C9ShcjxdAdJMYBFaOF0BPjZduEoMXQOxRuB6FaxdAMQisHFpkF0ChRbbz/VQXQBxaZDvfTxdAsp3vp8ZLF0CNl24Sg0AXQESLbOf7KRdAFK5H4XoUF0Dvp8ZLNwkXQGq8dJMYBBdAd76fGi/dFkC8dJMYBNYWQEjhehSuxxZAqMZLN4nBFkDsUbgehWsWQEFg5dAiWxZA/dR46SYxFkCcxCCwcugVQEw3iUFg5RVAne+nxku3FUB/arx0k5gVQHE9CtejcBVAiBbZzvdTFUC/nxov3SQVQN9PjZduEhVAT42XbhIDFUANAiuHFtkUQC2yne+nxhRA+FPjpZvEFED4U+Olm8QUQI/C9ShcjxRAarx0kxiEFEDl0CLb+X4UQMqhRbbzfRRAnMQgsHJoFEAxCKwcWmQUQJhuEoPAShRA7Xw/NV46FEBaZDvfTw0UQLpJDAIrBxRA/Knx0k3iE0C8dJMYBNYTQLKd76fGyxNAZDvfT42XE0AK16NwPYoTQBsv3SQGgRNA5dAi2/l+E0ArhxbZzncTQCGwcmiRbRNAQWDl0CJbE0AzMzMzMzMTQPT91HjpJhNAv58aL90kE0Db+X5qvPQSQFyPwvUo3BJALbKd76fGEkBYObTIdr4SQNNNYhBYuRJAaJHtfD+1EkDEILByaJESQNV46SYxiBJAcT0K16NwEkBjEFg5tEgSQMP1KFyPQhJAMzMzMzMzEkDfT42XbhISQMQgsHJoERJAdJMYBFYOEkA/NV66SQwSQLpJDAIrBxJAWDm0yHa+EUCTGARWDq0RQGDl0CLbeRFAZmZmZmZmEUCHFtnO91MRQO18PzVeOhFA46WbxCAwEUBeukkMAisRQC/dJAaBFRFANV66SQwCEUCsHFpkO98QQC2yne+nxhBAAiuHFtlOEEBvEoPAyiEQQPYoXI/C9Q9AtvP91HjpD0DazvdT46UPQKabxCCwcg9ACKwcWmQ7D0BfukkMAisPQMP1KFyPwg5AWmQ730+NDkBzaJHtfD8OQKabxCCwcg1ABoGVQ4tsDUC8dJMYBFYNQHNoke18Pw1APQrXo3A9DUAYBFYOLbIMQJqZmZmZmQxAuB6F61G4C0C4HoXrUbgKQEA1XrpJDAhAPQrXo3A9B0CDwMqhRbYGQLTIdr6fGh5A76fGSzcJHkAbL90kBgEeQMqhRbbz/R1A8/3UeOmmHUAEVg4tsp0dQEFg5dAiWx1AvHSTGARWHUCNl24Sg0AdQESLbOf7KR1AxSCwcmgRHUBg5dAi23kcQNEi2/l+ahxADQIrhxZZHEAOLbKd7yccQGDl0CLb+RtAAyuHFtnOG0Cd76fGS7cbQFTjpZvEoBtAlkOLbOd7G0DpJjEIrBwbQNv5fmq89BpAZmZmZmbmGkBSuB6F69EaQOj7qfHSzRpAmpmZmZmZGkD8qfHSTWIaQJduEoPAShpArkfhehQuGkDAyqFFtvMZQAaBlUOL7BlAtvP91HjpGUBMN4lBYOUZQGq8dJMYhBlAarx0kxiEGUAAAAAAAIAZQIxs5/upcRlA7FG4HoVrGUCyne+nxksZQPp+arx0ExlA2/l+arz0GECsHFpkO98YQHjpJjEIrBhAvHSTGARWGEAcWmQ7308YQBKDwMqhRRhAhetRuB4FGEAshxbZzvcXQKabxCCw8hdAnMQgsHLoF0CBlUOLbOcXQG3n+6nx0hdAyXa+nxqvF0CTGARWDq0XQEoMAiuHlhdABoGVQ4tsF0DXo3A9ClcXQNejcD0KVxdAfT81XrpJF0CNl24Sg0AXQGmR7Xw/NRdAL90kBoEVF0DfT42XbhIXQEW28/3U+BZAbhKDwMqhFkBkO99PjZcWQPYoXI/CdRZAPQrXo3A9FkDJdr6fGi8WQPP91HjpJhZA6SYxCKwcFkDFILByaBEWQArXo3A9ChZAwMqhRbbzFUChRbbz/dQVQMP1KFyPwhVAtMh2vp+aFUB0kxgEVo4VQKjGSzeJQRVAg8DKoUU2FUBEi2zn+ykVQARWDi2yHRVAexSuR+H6FEBjEFg5tMgUQD0K16NwvRRAaZHtfD+1FEDz/dR46aYUQL+fGi/dpBRAH4XrUbieFEC0yHa+n5oUQBSuR+F6lBRAu0kMAiuHFEBqvHSTGIQUQMqhRbbzfRRAlkOLbOd7FEBYObTIdj4UQO18PzVeOhRArkfhehQuFEBvEoPAyiEUQJZDi2zn+xNAVOOlm8SgE0AbL90kBoETQAAAAAAAgBNAlkOLbOd7E0CNl24Sg0ATQK5H4XoULhNAeekmMQgsE0BqvHSTGAQTQB+F61G4nhJA30+Nl26SEkAK16NwPYoSQM3MzMzMTBJAsp3vp8ZLEkBaZDvfTw0SQNV46SYxCBJAvHSTGATWEUApXI/C9agRQARWDi2ynRFAFK5H4XqUEUCmm8QgsHIRQHE9CtejcBFABoGVQ4tsEUCyne+nxksRQLTIdr6fGhFASgwCK4cWEUA1XrpJDAIRQIxs5/up8RBAxks3iUHgEECR7Xw/Nd4QQOj7qfHSzRBAE4PAyqHFEEA6tMh2vp8QQHSTGARWjhBAlkOLbOd7EECYbhKDwEoQQOomMQisHBBAl24Sg8DKD0DazvdT46UPQIgW2c73Uw9AqMZLN4lBD0AhsHJoke0OQA0CK4cW2Q5ADi2yne+nDkC0yHa+nxoOQLbz/dR46Q1AtvP91HjpDUCXbhKDwMoNQI/C9Shcjw1AiBbZzvdTDUBg5dAi2/kMQEFg5dAi2wxAH4XrUbgeDECsHFpkO98LQOF6FK5H4QpABoGVQ4tsCkBaZDvfT40IQD0K16NwPQdA/f//X+MlHkADAAAghxYeQAQAAKAYBB5AAAAAINv5HUADAACAQeAdQPz//z8Mgh1A////f5VDHUADAABAiUEdQAMAAODQIh1AAwAA4NAiHUADAACgHNocQP3//1/lUBxAAAAA4CQGHEADAAAA1fgbQAAAAMBy6BtAAwAAANPNG0ADAABAYpAbQAAAAEC2cxtAAQAA4CLbGkAFAADgpZsaQAAAAECNlxpABAAAgD2KGkD9//+/nW8aQAQAAEBgZRpA////P99PGkD///9fukkaQAUAAOClGxpA/f//X+XQGUD9//9f5dAZQAEAACDZzhlA/f//n5vEGUD9////LLIZQAEAAMAgsBlAAwAAAKycGUAAAAAAAIAZQAAAAGCRbRlAAwAAgEFgGUD///8/CKwYQAQAACCFaxhA+///H1pkGEAEAACAFlkYQP///x8EVhhAAQAAQLRIGED8//8fMQgYQAQAAGASAxhA+///H1rkF0D////fTeIXQAEAAOAi2xdAAwAAoBzaF0ADAACg8dIXQAUAAIAUrhdABQAA4KWbF0D8//+f7XwXQAMAAGBmZhdAAwAAoBxaF0ADAACgHFoXQAMAAMDMTBdA/f//f8BKF0D///9fukkXQAMAAOCnRhdA////n3A9F0D8//8fMQgXQP////8o3BZABAAAoBiEFkD8//9f53sWQAQAAACqcRZAAwAA4KdGFkD9//+fmRkWQAAAAAAAABZAAwAAANX4FUD9////U+MVQP3//99RuBVA/P//33qUFUD7//9fEFgVQPv//5/GSxVA/f//v3Y+FUD///8/CCwVQAEAACCyHRVAAAAAQI0XFUD+//+/dBMVQAAAAMBJDBVAAAAAAAAAFUACAAAgsPIUQPv//9+j8BRA/v//v53vFEAFAAAghesUQAAAAMBy6BRAAgAAYGbmFEADAAAgrscUQAUAAEBeuhRA/f//H1i5FED9//8/M7MUQPv//7+fmhRA+///n8ZLFED7//+fxksUQAEAAOD7KRRAAgAAoEMLFEAFAACgGAQUQAUAAIAW2RNA+///f+vRE0D9//9f5VATQP3//99ROBNA/v//n5kZE0D7///fo/ASQAEAAOAi2xJA////HwTWEkADAAAgrscSQP3//5+bxBJA/v//v3STEkD+//9/l24SQPv//5/GSxJAAQAAoEU2EkD9//8/MzMSQAUAAIAULhJAAQAAANcjEkD7////VQ4SQPv//5/t/BFA/////yjcEUD9//8/CtcRQAEAAGCPwhFA/v//HwaBEUABAABgj0IRQP////8BKxFAAQAA4PspEUD///8f3SQRQAEAAGC4HhFAAQAAYI/CEED9///fUbgQQP///z8IrBBA+////1WOEED+//8/4XoQQP///99NYhBABAAAoPFSEED8//+fxCAQQAMAAACsHBBAAQAAYI/CD0D8//+f7XwPQAAAAAAAAA9ABwAAwMh2DkALAAAAKVwOQPf//58cWg5ACAAAoMQgDkD4//8/iUENQPz//3/pJg1A+P//n/HSDEAIAADAdr4MQPv//z9eugxACQAAgJVDDED8////VQ4MQPz//3/C9QtA/f//n5vEC0AIAAAALbILQAgAAIDAygpA////n3A9B0D3//+fQ4sFQLtJDAIrhx5Axks3iUFgHkC4HoXrUTgeQHsUrkfh+h1AppvEILDyHUDdJAaBlcMdQBxaZDvfTx1Asp3vp8ZLHUCoxks3iUEdQEoMAiuHFh1Aw/UoXI/CHEB0kxgEVo4cQH0/NV66SRxAnMQgsHLoG0Bcj8L1KNwbQGmR7Xw/tRtApHA9CtejG0AlBoGVQ4sbQKjGSzeJQRtAf2q8dJMYG0Dy0k1iENgaQDZeukkMghpA2/l+arz0GUDAyqFFtvMZQIGVQ4ts5xlA3SQGgZXDGUC4HoXrUbgZQJMYBFYOrRlAWmQ730+NGUC7SQwCK4cZQGq8dJMYhBlA5dAi2/l+GUCWQ4ts53sZQKwcWmQ7XxlAfT81XrpJGUA9CtejcD0ZQArXo3A9ChlA+FPjpZvEGED91HjpJrEYQF+6SQwCqxhAqvHSTWKQGEDKoUW2830YQOxRuB6FaxhA/Knx0k1iGEChRbbz/VQYQH0/NV66SRhAAAAAAAAAGEAxCKwcWuQXQG3n+6nx0hdAAyuHFtnOF0CXbhKDwMoXQEjhehSuxxdACKwcWmS7F0ApXI/C9agXQKrx0k1ikBdAj8L1KFyPF0AAAAAAAIAXQNejcD0KVxdAPQrXo3A9F0ApXI/C9SgXQEA1XrpJDBdANl66SQwCF0Db+X5qvPQWQNNNYhBYuRZA8/3UeOmmFkDazvdT46UWQI/C9ShcjxZAJQaBlUOLFkB7FK5H4XoWQN0kBoGVQxZAf2q8dJMYFkBqvHSTGAQWQDvfT42X7hVAO99PjZfuFUAX2c73U+MVQLgehetRuBVApHA9CtejFUBkO99PjZcVQDvfT42XbhVAO99PjZduFUAX2c73U2MVQGMQWDm0SBVAaZHtfD81FUCuR+F6FC4VQGq8dJMYBBVAlkOLbOf7FEDo+6nx0s0UQLKd76fGyxRAPQrXo3C9FEC/nxov3aQUQB+F61G4nhRAoBov3SSGFEBqvHSTGIQUQAAAAAAAgBRAtvP91HhpFECsHFpkO18UQIcW2c73UxRAIbByaJHtE0BmZmZmZuYTQAisHFpkuxNAhetRuB6FE0DTTWIQWDkTQNV46SYxCBNARrbz/dT4EkBMN4lBYOUSQIcW2c730xJAyXa+nxqvEkBU46WbxKASQKAaL90khhJAy6FFtvN9EkCR7Xw/NV4SQPLSTWIQWBJAYxBYObRIEkAj2/l+ajwSQAAAAAAAABJA/Knx0k3iEUBt5/up8dIRQH0/NV66yRFA3SQGgZXDEUAIrBxaZLsRQBgEVg4tshFAkxgEVg6tEUBeukkMAqsRQKRwPQrXoxFANV66SQyCEUAGgZVDi2wRQGZmZmZmZhFAXI/C9ShcEUBjEFg5tEgRQAisHFpkOxFATmIQWDk0EUB7FK5H4foQQMP1KFyPwhBARIts5/upEEC/nxov3aQQQKrx0k1ikBBAdJMYBFaOEEC28/3UeGkQQMqhRbbz/Q9Ag8DKoUW2D0ARWDm0yHYOQFyPwvUoXA5A/dR46SYxDkDvp8ZLN4kNQHSTGARWDg1AuB6F61G4DEAYBFYOLbIMQA4tsp3vpwxA9ihcj8L1C0AYBFYOLbILQN0kBoGVQwtA16NwPQrXCkAGgZVDi2wKQNR46SYxCApARIts5/upCEA9CtejcD0HQPp+arx0Ex9AZmZmZmZmHkCd76fGSzceQGDl0CLb+R1AwMqhRbbzHUDsUbgehesdQKwcWmQ7Xx1A7nw/NV46HUDpJjEIrBwdQJZDi2zn+xxAtvP91HjpHEBfukkMAqscQHSTGARWjhxAXI/C9ShcHECd76fGSzccQC/dJAaBFRxAcT0K16PwG0D91HjpJrEbQMUgsHJokRtAnMQgsHJoG0DNzMzMzEwbQIGVQ4ts5xpA4XoUrkdhGkCS7Xw/NV4aQGMQWDm0yBlALbKd76fGGUBYObTIdr4ZQAAAAAAAgBlA5dAi2/l+GUDRItv5fmoZQGMQWDm0SBlAMzMzMzMzGUB46SYxCCwZQEA1XrpJDBlAT42XbhIDGUAxCKwcWuQYQLKd76fGyxhAl24Sg8DKGED4U+Olm8QYQO58PzVeuhhAGARWDi2yGEB/arx0k5gYQAAAAAAAgBhARbbz/dR4GEDsUbgehWsYQGZmZmZmZhhA8tJNYhBYGEBI4XoUrkcYQMl2vp8aLxhA6SYxCKwcGEAv3SQGgRUYQNR46SYxCBhAw/UoXI/CF0AUrkfhepQXQN9PjZdukhdAj8L1KFyPF0BaZDvfT40XQCUGgZVDixdAcT0K16NwF0Aj2/l+ajwXQARWDi2yHRdA1HjpJjEIF0BFtvP91PgWQKwcWmQ73xZAfT81XrrJFkASg8DKocUWQOkmMQisnBZAZDvfT42XFkCgGi/dJIYWQLbz/dR4aRZABFYOLbIdFkCamZmZmRkWQGQ730+NFxZAku18PzXeFUDufD81XroVQLgehetRuBVAMzMzMzOzFUAlBoGVQ4sVQMqhRbbzfRVAQWDl0CJbFUCXbhKDwEoVQNrO91PjJRVApHA9CtcjFUB/arx0kxgVQI/C9ShcDxVAJQaBlUMLFUCxcmiR7fwUQPLSTWIQ2BRAoUW28/3UFEChRbbz/dQUQH0/NV66yRRA+FPjpZvEFEDdJAaBlcMUQDMzMzMzsxRAhxbZzvdTFECTGARWDi0UQCUGgZVDCxRAlkOLbOf7E0Atsp3vp8YTQPT91HjpphNAOrTIdr6fE0DVeOkmMYgTQHNoke18PxNAGARWDi0yE0DJdr6fGi8TQBbZzvdT4xJAxks3iUHgEkCHFtnO99MSQM3MzMzMzBJAYxBYObTIEkDTTWIQWLkSQHnpJjEIrBJAdJMYBFaOEkBQjZduEoMSQAwCK4cWWRJAI9v5fmo8EkD+1HjpJjESQIlBYOXQIhJA+n5qvHQTEkCq8dJNYhASQO+nxks3CRJA9ihcj8L1EUB3vp8aL90RQPLSTWIQ2BFAbef7qfHSEUBzaJHtfL8RQHnpJjEIrBFAj8L1KFyPEUDl0CLb+X4RQBFYObTIdhFAcT0K16NwEUBmZmZmZmYRQIcW2c73UxFAv58aL90kEUAMAiuHFtkQQKjGSzeJwRBARIts5/upEEAhsHJokW0QQNejcD0KVxBAj8L1KFwPEEDNzMzMzMwPQGMQWDm0yA9AEVg5tMh2D0DRItv5fmoOQDMzMzMzMw5A6Pup8dJNDUAtsp3vp8YMQIGVQ4ts5wtAGARWDi2yC0BI4XoUrkcLQArXo3A9CgtAeOkmMQisCkANAiuHFtkJQDq0yHa+nwlARIts5/upCEBt5/up8dIGQAAAAAAAAPh/AAAAAAAA+H8AAAAAAAD4fwAAAAAAAPh/AAAAAAAA+H8AAAAAAAD4fwAAAAAAAPh/AAAAAAAA+H8AAAAAAAD4fwAAAAAAAPh/AAAAAAAA+H8AAAAAAAD4fwAAAAAAAPh/AAAAAAAA+H8AAAAAAAD4fwAAAAAAAPh/AAAAAAAA+H8AAAAAAAD4fwAAAAAAAPh/AAAAAAAA+H8AAAAAAAD4fwAAAAAAAPh/AAAAAAAA+H8AAAAAAAD4fwAAAAAAAPh/AAAAAAAA+H8AAAAAAAD4fwAAAAAAAPh/AAAAAAAA+H8AAAAAAAD4fwAAAAAAAPh/AAAAAAAA+H8AAAAAAAD4fwAAAAAAAPh/AAAAAAAA+H8AAAAAAAD4fwAAAAAAAPh/AAAAAAAA+H8AAAAAAAD4fwAAAAAAAPh/AAAAAAAA+H8AAAAAAAD4fwAAAAAAAPh/AAAAAAAA+H8AAAAAAAD4fwAAAAAAAPh/AAAAAAAA+H8AAAAAAAD4fwAAAAAAAPh/AAAAAAAA+H8AAAAAAAD4fwAAAAAAAPh/AAAAAAAA+H8AAAAAAAD4fwAAAAAAAPh/AAAAAAAA+H8AAAAAAAD4fwAAAAAAAPh/AAAAAAAA+H8AAAAAAAD4fwAAAAAAAPh/AAAAAAAA+H8AAAAAAAD4fwAAAAAAAPh/AAAAAAAA+H8AAAAAAAD4fwAAAAAAAPh/AAAAAAAA+H8AAAAAAAD4fwAAAAAAAPh/AAAAAAAA+H8AAAAAAAD4fwAAAAAAAPh/AAAAAAAA+H8AAAAAAAD4fwAAAAAAAPh/AAAAAAAA+H8AAAAAAAD4fwAAAAAAAPh/AAAAAAAA+H8AAAAAAAD4fwAAAAAAAPh/AAAAAAAA+H8AAAAAAAD4fwAAAAAAAPh/AAAAAAAA+H8AAAAAAAD4fwAAAAAAAPh/AAAAAAAA+H8AAAAAAAD4fwAAAAAAAPh/AAAAAAAA+H8AAAAAAAD4fwAAAAAAAPh/AAAAAAAA+H8AAAAAAAD4fwAAAAAAAPh/AAAAAAAA+H8AAAAAAAD4fwAAAAAAAPh/AAAAAAAA+H8AAAAAAAD4fwAAAAAAAPh/AAAAAAAA+H8AAAAAAAD4fwAAAAAAAPh/AAAAAAAA+H8AAAAAAAD4fwAAAAAAAPh/AAAAAAAA+H8AAAAAAAD4fwAAAAAAAPh/AAAAAAAA+H8AAAAAAAD4fwAAAAAAAPh/AAAAAAAA+H8AAAAAAAD4fwAAAAAAAPh/AAAAAAAA+H8AAAAAAAD4fwAAAAAAAPh/AAAAAAAA+H8AAAAAAAD4fwAAAAAAAPh/AAAAAAAA+H8AAAAAAAD4fwAAAAAAAPh/AAAAAAAA+H8AAAAAAAD4fwAAAAAAAPh/AAAAAAAA+H8AAAAAAAD4fwAAAAAAAPh/AAAAAAAA+H8AAAAAAAD4fwAAAAAAAPh/AAAAAAAA+H8AAAAAAAD4fwAAAAAAAPh/AAAAAAAA+H8AAAAAAAD4fwAAAAAAAPh/AAAAAAAA+H8AAAAAAAD4fwAAAAAAAPh/AAAAAAAA+H8AAAAAAAD4fwAAAAAAAPh/AAAAAAAA+H8AAAAAAAD4fwAAAAAAAPh/AAAAAAAA+H8AAAAAAAD4fwAAAAAAAPh/AAAAAAAA+H8AAAAAAAD4fwAAAAAAAPh/AAAAAAAA+H8AAAAAAAD4fwAAAAAAAPh/AAAAAAAA+H8AAAAAAAD4fwAAAAAAAPh/AAAAAAAA+H8AAAAAAAD4fwAAAAAAAPh/AAAAAAAA+H8AAAAAAAD4fwAAAAAAAPh/AAAAAAAA+H8AAAAAAAD4fwAAAAAAAPh/AAAAAAAA+H8AAAAAAAD4fwAAAAAAAPh/AAAAAAAA+H8AAAAAAAD4fwAAAAAAAPh/AAAAAAAA+H8AAAAAAAD4fwAAAAAAAPh/AAAAAAAA+H8AAAAAAAD4fwAAAAAAAPh/AAAAAAAA+H8AAAAAAAD4fwAAAAAAAPh/AAAAAAAA+H8AAAAAAAD4fwAAAAAAAPh/AAAAAAAA+H8AAAAAAAD4fwAAAAAAAPh/AAAAAAAA+H8AAAAAAAD4fwAAAAAAAPh/AAAAAAAA+H8AAAAAAAD4fwAAAAAAAPh/AAAAAAAA+H8AAAAAAAD4fwAAAAAAAPh/AAAAAAAA+H8AAAAAAAD4fwAAAAAAAPh/AAAAAAAA+H8AAAAAAAD4fwAAAAAAAPh/AAAAAAAA+H8AAAAAAAD4fwAAAAAAAPh/AAAAAAAA+H8AAAAAAAD4fwAAAAAAAPh/AAAAAAAA+H8AAAAAAAD4fwAAAAAAAPh/AAAAAAAA+H8AAAAAAAD4fwAAAAAAAPh/AAAAAAAA+H8AAAAAAAD4fwAAAAAAAPh/AAAAAAAA+H8AAAAAAAD4fwAAAAAAAPh/AAAAAAAA+H8AAAAAAAD4fwAAAAAAAPh/AAAAAAAA+H8AAAAAAAD4fwAAAAAAAPh/AAAAAAAA+H8AAAAAAAD4fwAAAAAAAPh/AAAAAAAA+H8AAAAAAAD4fwAAAAAAAPh/AAAAAAAA+H8AAAAAAAD4fwAAAAAAAPh/AAAAAAAA+H8AAAAAAAD4fwAAAAAAAPh/AAAAAAAA+H8AAAAAAAD4fwAAAAAAAPh/AAAAAAAA+H8AAAAAAAD4fwAAAAAAAPh/AAAAAAAA+H8AAAAAAAD4fwAAAAAAAPh/AAAAAAAA+H8AAAAAAAD4fwAAAAAAAPh/AAAAAAAA+H8AAAAAAAD4fwAAAAAAAPh/AAAAAAAA+H8AAAAAAAD4fwAAAAAAAPh/AAAAAAAA+H8AAAAAAAD4fwAAAAAAAPh/AAAAAAAA+H8AAAAAAAD4fwAAAAAAAPh/AAAAAAAA+H8AAAAAAAD4fwAAAAAAAPh/AAAAAAAA+H8AAAAAAAD4fwAAAAAAAPh/AAAAAAAA+H8AAAAAAAD4fwAAAAAAAPh/AAAAAAAA+H8AAAAAAAD4fwAAAAAAAPh/AAAAAAAA+H8AAAAAAAD4fwAAAAAAAPh/AAAAAAAA+H8AAAAAAAD4fwAAAAAAAPh/AAAAAAAA+H8AAAAAAAD4fwAAAAAAAPh/AAAAAAAA+H8AAAAAAAD4fwAAAAAAAPh/AAAAAAAA+H8AAAAAAAD4fwAAAAAAAPh/AAAAAAAA+H8AAAAAAAD4fwAAAAAAAPh/AAAAAAAA+H8AAAAAAAD4fwAAAAAAAPh/AAAAAAAA+H8AAAAAAAD4fwAAAAAAAPh/AAAAAAAA+H8AAAAAAAD4fwAAAAAAAPh/AAAAAAAA+H8AAAAAAAD4fwAAAAAAAPh/AAAAAAAA+H8AAAAAAAD4fwAAAAAAAPh/AAAAAAAA+H8AAAAAAAD4fwAAAAAAAPh/AAAAAAAA+H8AAAAAAAD4fwAAAAAAAPh/AAAAAAAA+H8AAAAAAAD4fwAAAAAAAPh/AAAAAAAA+H8AAAAAAAD4fwAAAAAAAPh/AAAAAAAA+H8AAAAAAAD4fwAAAAAAAPh/AAAAAAAA+H8AAAAAAAD4fwAAAAAAAPh/AAAAAAAA+H8AAAAAAAD4fwAAAAAAAPh/AAAAAAAA+H8AAAAAAAD4fwAAAAAAAPh/AAAAAAAA+H8AAAAAAAD4fwAAAAAAAPh/AAAAAAAA+H8AAAAAAAD4fwAAAAAAAPh/AAAAAAAA+H8AAAAAAAD4fwAAAAAAAPh/AAAAAAAA+H8AAAAAAAD4fwAAAAAAAPh/AAAAAAAA+H8AAAAAAAD4fwAAAAAAAPh/AAAAAAAA+H8AAAAAAAD4fwAAAAAAAPh/AAAAAAAA+H8AAAAAAAD4fwAAAAAAAPh/AAAAAAAA+H8AAAAAAAD4fwAAAAAAAPh/AAAAAAAA+H8AAAAAAAD4fwAAAAAAAPh/AAAAAAAA+H8AAAAAAAD4fwAAAAAAAPh/AAAAAAAA+H8AAAAAAAD4fwAAAAAAAPh/AAAAAAAA+H8AAAAAAAD4fwAAAAAAAPh/AAAAAAAA+H8AAAAAAAD4fwAAAAAAAPh/AAAAAAAA+H8AAAAAAAD4fwAAAAAAAPh/AAAAAAAA+H8AAAAAAAD4fwAAAAAAAPh/AAAAAAAA+H8AAAAAAAD4fwAAAAAAAPh/AAAAAAAA+H8AAAAAAAD4fwAAAAAAAPh/AAAAAAAA+H8AAAAAAAD4fwAAAAAAAPh/AAAAAAAA+H8AAAAAAAD4fwAAAAAAAPh/AAAAAAAA+H8AAAAAAAD4fwAAAAAAAPh/AAAAAAAA+H8AAAAAAAD4fwAAAAAAAPh/AAAAAAAA+H8AAAAAAAD4fwAAAAAAAPh/AAAAAAAA+H8AAAAAAAD4fwAAAAAAAPh/AAAAAAAA+H8AAAAAAAD4fwAAAAAAAPh/AAAAAAAA+H8AAAAAAAD4fwAAAAAAAPh/AAAAAAAA+H8AAAAAAAD4fwAAAAAAAPh/AAAAAAAA+H8AAAAAAAD4fwAAAAAAAPh/AAAAAAAA+H8AAAAAAAD4fwAAAAAAAPh/AAAAAAAA+H8AAAAAAAD4fwAAAAAAAPh/AAAAAAAA+H8AAAAAAAD4fwAAAAAAAPh/AAAAAAAA+H8AAAAAAAD4fwAAAAAAAPh/AAAAAAAA+H8AAAAAAAD4fwAAAAAAAPh/AAAAAAAA+H8AAAAAAAD4fwAAAAAAAPh/AAAAAAAA+H8AAAAAAAD4fwAAAAAAAPh/AAAAAAAA+H8AAAAAAAD4fwAAAAAAAPh/AAAAAAAA+H8AAAAAAAD4fwAAAAAAAPh/AAAAAAAA+H8AAAAAAAD4fwAAAAAAAPh/AAAAAAAA+H8=",
          "dtype": "f8"
         },
         "yaxis": "y"
        },
        {
         "hovertemplate": "<b>OLS trendline</b><br>Score = 2.20765 * GDP + 3.40036<br>R<sup>2</sup>=0.621224<br><br>GDP=%{x}<br>Score=%{y} <b>(trend)</b><extra></extra>",
         "legendgroup": "",
         "marker": {
          "symbol": "circle"
         },
         "mode": "lines",
         "name": "",
         "showlegend": false,
         "type": "scattergl",
         "x": {
          "bdata": "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",
          "dtype": "f8"
         },
         "xaxis": "x",
         "y": {
          "bdata": "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",
          "dtype": "f8"
         },
         "yaxis": "y"
        }
       ],
       "layout": {
        "coloraxis": {
         "colorbar": {
          "title": {
           "text": "Year"
          }
         },
         "colorscale": [
          [
           0,
           "#0d0887"
          ],
          [
           0.1111111111111111,
           "#46039f"
          ],
          [
           0.2222222222222222,
           "#7201a8"
          ],
          [
           0.3333333333333333,
           "#9c179e"
          ],
          [
           0.4444444444444444,
           "#bd3786"
          ],
          [
           0.5555555555555556,
           "#d8576b"
          ],
          [
           0.6666666666666666,
           "#ed7953"
          ],
          [
           0.7777777777777778,
           "#fb9f3a"
          ],
          [
           0.8888888888888888,
           "#fdca26"
          ],
          [
           1,
           "#f0f921"
          ]
         ]
        },
        "legend": {
         "tracegroupgap": 0
        },
        "template": {
         "data": {
          "bar": [
           {
            "error_x": {
             "color": "#2a3f5f"
            },
            "error_y": {
             "color": "#2a3f5f"
            },
            "marker": {
             "line": {
              "color": "#E5ECF6",
              "width": 0.5
             },
             "pattern": {
              "fillmode": "overlay",
              "size": 10,
              "solidity": 0.2
             }
            },
            "type": "bar"
           }
          ],
          "barpolar": [
           {
            "marker": {
             "line": {
              "color": "#E5ECF6",
              "width": 0.5
             },
             "pattern": {
              "fillmode": "overlay",
              "size": 10,
              "solidity": 0.2
             }
            },
            "type": "barpolar"
           }
          ],
          "carpet": [
           {
            "aaxis": {
             "endlinecolor": "#2a3f5f",
             "gridcolor": "white",
             "linecolor": "white",
             "minorgridcolor": "white",
             "startlinecolor": "#2a3f5f"
            },
            "baxis": {
             "endlinecolor": "#2a3f5f",
             "gridcolor": "white",
             "linecolor": "white",
             "minorgridcolor": "white",
             "startlinecolor": "#2a3f5f"
            },
            "type": "carpet"
           }
          ],
          "choropleth": [
           {
            "colorbar": {
             "outlinewidth": 0,
             "ticks": ""
            },
            "type": "choropleth"
           }
          ],
          "contour": [
           {
            "colorbar": {
             "outlinewidth": 0,
             "ticks": ""
            },
            "colorscale": [
             [
              0,
              "#0d0887"
             ],
             [
              0.1111111111111111,
              "#46039f"
             ],
             [
              0.2222222222222222,
              "#7201a8"
             ],
             [
              0.3333333333333333,
              "#9c179e"
             ],
             [
              0.4444444444444444,
              "#bd3786"
             ],
             [
              0.5555555555555556,
              "#d8576b"
             ],
             [
              0.6666666666666666,
              "#ed7953"
             ],
             [
              0.7777777777777778,
              "#fb9f3a"
             ],
             [
              0.8888888888888888,
              "#fdca26"
             ],
             [
              1,
              "#f0f921"
             ]
            ],
            "type": "contour"
           }
          ],
          "contourcarpet": [
           {
            "colorbar": {
             "outlinewidth": 0,
             "ticks": ""
            },
            "type": "contourcarpet"
           }
          ],
          "heatmap": [
           {
            "colorbar": {
             "outlinewidth": 0,
             "ticks": ""
            },
            "colorscale": [
             [
              0,
              "#0d0887"
             ],
             [
              0.1111111111111111,
              "#46039f"
             ],
             [
              0.2222222222222222,
              "#7201a8"
             ],
             [
              0.3333333333333333,
              "#9c179e"
             ],
             [
              0.4444444444444444,
              "#bd3786"
             ],
             [
              0.5555555555555556,
              "#d8576b"
             ],
             [
              0.6666666666666666,
              "#ed7953"
             ],
             [
              0.7777777777777778,
              "#fb9f3a"
             ],
             [
              0.8888888888888888,
              "#fdca26"
             ],
             [
              1,
              "#f0f921"
             ]
            ],
            "type": "heatmap"
           }
          ],
          "histogram": [
           {
            "marker": {
             "pattern": {
              "fillmode": "overlay",
              "size": 10,
              "solidity": 0.2
             }
            },
            "type": "histogram"
           }
          ],
          "histogram2d": [
           {
            "colorbar": {
             "outlinewidth": 0,
             "ticks": ""
            },
            "colorscale": [
             [
              0,
              "#0d0887"
             ],
             [
              0.1111111111111111,
              "#46039f"
             ],
             [
              0.2222222222222222,
              "#7201a8"
             ],
             [
              0.3333333333333333,
              "#9c179e"
             ],
             [
              0.4444444444444444,
              "#bd3786"
             ],
             [
              0.5555555555555556,
              "#d8576b"
             ],
             [
              0.6666666666666666,
              "#ed7953"
             ],
             [
              0.7777777777777778,
              "#fb9f3a"
             ],
             [
              0.8888888888888888,
              "#fdca26"
             ],
             [
              1,
              "#f0f921"
             ]
            ],
            "type": "histogram2d"
           }
          ],
          "histogram2dcontour": [
           {
            "colorbar": {
             "outlinewidth": 0,
             "ticks": ""
            },
            "colorscale": [
             [
              0,
              "#0d0887"
             ],
             [
              0.1111111111111111,
              "#46039f"
             ],
             [
              0.2222222222222222,
              "#7201a8"
             ],
             [
              0.3333333333333333,
              "#9c179e"
             ],
             [
              0.4444444444444444,
              "#bd3786"
             ],
             [
              0.5555555555555556,
              "#d8576b"
             ],
             [
              0.6666666666666666,
              "#ed7953"
             ],
             [
              0.7777777777777778,
              "#fb9f3a"
             ],
             [
              0.8888888888888888,
              "#fdca26"
             ],
             [
              1,
              "#f0f921"
             ]
            ],
            "type": "histogram2dcontour"
           }
          ],
          "mesh3d": [
           {
            "colorbar": {
             "outlinewidth": 0,
             "ticks": ""
            },
            "type": "mesh3d"
           }
          ],
          "parcoords": [
           {
            "line": {
             "colorbar": {
              "outlinewidth": 0,
              "ticks": ""
             }
            },
            "type": "parcoords"
           }
          ],
          "pie": [
           {
            "automargin": true,
            "type": "pie"
           }
          ],
          "scatter": [
           {
            "fillpattern": {
             "fillmode": "overlay",
             "size": 10,
             "solidity": 0.2
            },
            "type": "scatter"
           }
          ],
          "scatter3d": [
           {
            "line": {
             "colorbar": {
              "outlinewidth": 0,
              "ticks": ""
             }
            },
            "marker": {
             "colorbar": {
              "outlinewidth": 0,
              "ticks": ""
             }
            },
            "type": "scatter3d"
           }
          ],
          "scattercarpet": [
           {
            "marker": {
             "colorbar": {
              "outlinewidth": 0,
              "ticks": ""
             }
            },
            "type": "scattercarpet"
           }
          ],
          "scattergeo": [
           {
            "marker": {
             "colorbar": {
              "outlinewidth": 0,
              "ticks": ""
             }
            },
            "type": "scattergeo"
           }
          ],
          "scattergl": [
           {
            "marker": {
             "colorbar": {
              "outlinewidth": 0,
              "ticks": ""
             }
            },
            "type": "scattergl"
           }
          ],
          "scattermap": [
           {
            "marker": {
             "colorbar": {
              "outlinewidth": 0,
              "ticks": ""
             }
            },
            "type": "scattermap"
           }
          ],
          "scattermapbox": [
           {
            "marker": {
             "colorbar": {
              "outlinewidth": 0,
              "ticks": ""
             }
            },
            "type": "scattermapbox"
           }
          ],
          "scatterpolar": [
           {
            "marker": {
             "colorbar": {
              "outlinewidth": 0,
              "ticks": ""
             }
            },
            "type": "scatterpolar"
           }
          ],
          "scatterpolargl": [
           {
            "marker": {
             "colorbar": {
              "outlinewidth": 0,
              "ticks": ""
             }
            },
            "type": "scatterpolargl"
           }
          ],
          "scatterternary": [
           {
            "marker": {
             "colorbar": {
              "outlinewidth": 0,
              "ticks": ""
             }
            },
            "type": "scatterternary"
           }
          ],
          "surface": [
           {
            "colorbar": {
             "outlinewidth": 0,
             "ticks": ""
            },
            "colorscale": [
             [
              0,
              "#0d0887"
             ],
             [
              0.1111111111111111,
              "#46039f"
             ],
             [
              0.2222222222222222,
              "#7201a8"
             ],
             [
              0.3333333333333333,
              "#9c179e"
             ],
             [
              0.4444444444444444,
              "#bd3786"
             ],
             [
              0.5555555555555556,
              "#d8576b"
             ],
             [
              0.6666666666666666,
              "#ed7953"
             ],
             [
              0.7777777777777778,
              "#fb9f3a"
             ],
             [
              0.8888888888888888,
              "#fdca26"
             ],
             [
              1,
              "#f0f921"
             ]
            ],
            "type": "surface"
           }
          ],
          "table": [
           {
            "cells": {
             "fill": {
              "color": "#EBF0F8"
             },
             "line": {
              "color": "white"
             }
            },
            "header": {
             "fill": {
              "color": "#C8D4E3"
             },
             "line": {
              "color": "white"
             }
            },
            "type": "table"
           }
          ]
         },
         "layout": {
          "annotationdefaults": {
           "arrowcolor": "#2a3f5f",
           "arrowhead": 0,
           "arrowwidth": 1
          },
          "autotypenumbers": "strict",
          "coloraxis": {
           "colorbar": {
            "outlinewidth": 0,
            "ticks": ""
           }
          },
          "colorscale": {
           "diverging": [
            [
             0,
             "#8e0152"
            ],
            [
             0.1,
             "#c51b7d"
            ],
            [
             0.2,
             "#de77ae"
            ],
            [
             0.3,
             "#f1b6da"
            ],
            [
             0.4,
             "#fde0ef"
            ],
            [
             0.5,
             "#f7f7f7"
            ],
            [
             0.6,
             "#e6f5d0"
            ],
            [
             0.7,
             "#b8e186"
            ],
            [
             0.8,
             "#7fbc41"
            ],
            [
             0.9,
             "#4d9221"
            ],
            [
             1,
             "#276419"
            ]
           ],
           "sequential": [
            [
             0,
             "#0d0887"
            ],
            [
             0.1111111111111111,
             "#46039f"
            ],
            [
             0.2222222222222222,
             "#7201a8"
            ],
            [
             0.3333333333333333,
             "#9c179e"
            ],
            [
             0.4444444444444444,
             "#bd3786"
            ],
            [
             0.5555555555555556,
             "#d8576b"
            ],
            [
             0.6666666666666666,
             "#ed7953"
            ],
            [
             0.7777777777777778,
             "#fb9f3a"
            ],
            [
             0.8888888888888888,
             "#fdca26"
            ],
            [
             1,
             "#f0f921"
            ]
           ],
           "sequentialminus": [
            [
             0,
             "#0d0887"
            ],
            [
             0.1111111111111111,
             "#46039f"
            ],
            [
             0.2222222222222222,
             "#7201a8"
            ],
            [
             0.3333333333333333,
             "#9c179e"
            ],
            [
             0.4444444444444444,
             "#bd3786"
            ],
            [
             0.5555555555555556,
             "#d8576b"
            ],
            [
             0.6666666666666666,
             "#ed7953"
            ],
            [
             0.7777777777777778,
             "#fb9f3a"
            ],
            [
             0.8888888888888888,
             "#fdca26"
            ],
            [
             1,
             "#f0f921"
            ]
           ]
          },
          "colorway": [
           "#636efa",
           "#EF553B",
           "#00cc96",
           "#ab63fa",
           "#FFA15A",
           "#19d3f3",
           "#FF6692",
           "#B6E880",
           "#FF97FF",
           "#FECB52"
          ],
          "font": {
           "color": "#2a3f5f"
          },
          "geo": {
           "bgcolor": "white",
           "lakecolor": "white",
           "landcolor": "#E5ECF6",
           "showlakes": true,
           "showland": true,
           "subunitcolor": "white"
          },
          "hoverlabel": {
           "align": "left"
          },
          "hovermode": "closest",
          "mapbox": {
           "style": "light"
          },
          "paper_bgcolor": "white",
          "plot_bgcolor": "#E5ECF6",
          "polar": {
           "angularaxis": {
            "gridcolor": "white",
            "linecolor": "white",
            "ticks": ""
           },
           "bgcolor": "#E5ECF6",
           "radialaxis": {
            "gridcolor": "white",
            "linecolor": "white",
            "ticks": ""
           }
          },
          "scene": {
           "xaxis": {
            "backgroundcolor": "#E5ECF6",
            "gridcolor": "white",
            "gridwidth": 2,
            "linecolor": "white",
            "showbackground": true,
            "ticks": "",
            "zerolinecolor": "white"
           },
           "yaxis": {
            "backgroundcolor": "#E5ECF6",
            "gridcolor": "white",
            "gridwidth": 2,
            "linecolor": "white",
            "showbackground": true,
            "ticks": "",
            "zerolinecolor": "white"
           },
           "zaxis": {
            "backgroundcolor": "#E5ECF6",
            "gridcolor": "white",
            "gridwidth": 2,
            "linecolor": "white",
            "showbackground": true,
            "ticks": "",
            "zerolinecolor": "white"
           }
          },
          "shapedefaults": {
           "line": {
            "color": "#2a3f5f"
           }
          },
          "ternary": {
           "aaxis": {
            "gridcolor": "white",
            "linecolor": "white",
            "ticks": ""
           },
           "baxis": {
            "gridcolor": "white",
            "linecolor": "white",
            "ticks": ""
           },
           "bgcolor": "#E5ECF6",
           "caxis": {
            "gridcolor": "white",
            "linecolor": "white",
            "ticks": ""
           }
          },
          "title": {
           "x": 0.05
          },
          "xaxis": {
           "automargin": true,
           "gridcolor": "white",
           "linecolor": "white",
           "ticks": "",
           "title": {
            "standoff": 15
           },
           "zerolinecolor": "white",
           "zerolinewidth": 2
          },
          "yaxis": {
           "automargin": true,
           "gridcolor": "white",
           "linecolor": "white",
           "ticks": "",
           "title": {
            "standoff": 15
           },
           "zerolinecolor": "white",
           "zerolinewidth": 2
          }
         }
        },
        "title": {
         "text": "GDP vs Happiness Score (2015 - 2022)"
        },
        "xaxis": {
         "anchor": "y",
         "domain": [
          0,
          1
         ],
         "title": {
          "text": "GDP"
         }
        },
        "yaxis": {
         "anchor": "x",
         "domain": [
          0,
          1
         ],
         "title": {
          "text": "Score"
         }
        }
       }
      }
     },
     "metadata": {},
     "output_type": "display_data"
    }
   ],
   "source": [
    "# Interactive plot with Plotly: Score vs GDP\n",
    "\n",
    "fig = px.scatter(data, x='GDP', y='Score', color='Year', hover_name='Country',\n",
    "                title='GDP vs Happiness Score (2015 - 2022)', trendline='ols')\n",
    "fig.show()"
   ]
  },
  {
   "cell_type": "code",
   "execution_count": null,
   "metadata": {},
   "outputs": [],
   "source": []
  }
 ],
 "metadata": {
  "kernelspec": {
   "display_name": "Python 3",
   "language": "python",
   "name": "python3"
  },
  "language_info": {
   "codemirror_mode": {
    "name": "ipython",
    "version": 3
   },
   "file_extension": ".py",
   "mimetype": "text/x-python",
   "name": "python",
   "nbconvert_exporter": "python",
   "pygments_lexer": "ipython3",
   "version": "3.8.3"
  }
 },
 "nbformat": 4,
 "nbformat_minor": 4
}
